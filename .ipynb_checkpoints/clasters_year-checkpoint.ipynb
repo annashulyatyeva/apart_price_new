{
 "cells": [
  {
   "cell_type": "code",
   "execution_count": 1,
   "id": "1573f5f6",
   "metadata": {},
   "outputs": [],
   "source": [
    "import pandas as pd"
   ]
  },
  {
   "cell_type": "code",
   "execution_count": 2,
   "id": "53b11fb0",
   "metadata": {},
   "outputs": [
    {
     "data": {
      "text/html": [
       "<div>\n",
       "<style scoped>\n",
       "    .dataframe tbody tr th:only-of-type {\n",
       "        vertical-align: middle;\n",
       "    }\n",
       "\n",
       "    .dataframe tbody tr th {\n",
       "        vertical-align: top;\n",
       "    }\n",
       "\n",
       "    .dataframe thead th {\n",
       "        text-align: right;\n",
       "    }\n",
       "</style>\n",
       "<table border=\"1\" class=\"dataframe\">\n",
       "  <thead>\n",
       "    <tr style=\"text-align: right;\">\n",
       "      <th></th>\n",
       "      <th>rooms</th>\n",
       "      <th>area1</th>\n",
       "      <th>area2</th>\n",
       "      <th>area3</th>\n",
       "      <th>district</th>\n",
       "      <th>floor</th>\n",
       "      <th>total_floors</th>\n",
       "      <th>building_type</th>\n",
       "      <th>year</th>\n",
       "      <th>additional_info</th>\n",
       "      <th>price</th>\n",
       "    </tr>\n",
       "  </thead>\n",
       "  <tbody>\n",
       "    <tr>\n",
       "      <th>0</th>\n",
       "      <td>2.0</td>\n",
       "      <td>44.0</td>\n",
       "      <td>30.0</td>\n",
       "      <td>6.0</td>\n",
       "      <td>Автозаводский район</td>\n",
       "      <td>4</td>\n",
       "      <td>4</td>\n",
       "      <td>кирпич</td>\n",
       "      <td>1961.0</td>\n",
       "      <td>хрущ.</td>\n",
       "      <td>4900000</td>\n",
       "    </tr>\n",
       "    <tr>\n",
       "      <th>1</th>\n",
       "      <td>2.0</td>\n",
       "      <td>32.0</td>\n",
       "      <td>18.1</td>\n",
       "      <td>6.8</td>\n",
       "      <td>Советский район</td>\n",
       "      <td>1</td>\n",
       "      <td>3</td>\n",
       "      <td>кирпич</td>\n",
       "      <td>1958.0</td>\n",
       "      <td>стал.</td>\n",
       "      <td>4000000</td>\n",
       "    </tr>\n",
       "    <tr>\n",
       "      <th>2</th>\n",
       "      <td>2.0</td>\n",
       "      <td>45.0</td>\n",
       "      <td>31.2</td>\n",
       "      <td>6.0</td>\n",
       "      <td>Канавинский район</td>\n",
       "      <td>2</td>\n",
       "      <td>5</td>\n",
       "      <td>кирпич</td>\n",
       "      <td>1972.0</td>\n",
       "      <td>хрущ.</td>\n",
       "      <td>4300000</td>\n",
       "    </tr>\n",
       "    <tr>\n",
       "      <th>3</th>\n",
       "      <td>1.0</td>\n",
       "      <td>30.8</td>\n",
       "      <td>18.1</td>\n",
       "      <td>5.8</td>\n",
       "      <td>Канавинский район</td>\n",
       "      <td>2</td>\n",
       "      <td>5</td>\n",
       "      <td>кирпич</td>\n",
       "      <td>1965.0</td>\n",
       "      <td>хрущ.</td>\n",
       "      <td>4200000</td>\n",
       "    </tr>\n",
       "    <tr>\n",
       "      <th>4</th>\n",
       "      <td>2.0</td>\n",
       "      <td>48.0</td>\n",
       "      <td>26.0</td>\n",
       "      <td>9.0</td>\n",
       "      <td>Московский район</td>\n",
       "      <td>5</td>\n",
       "      <td>10</td>\n",
       "      <td>панель</td>\n",
       "      <td>2016.0</td>\n",
       "      <td>undefind</td>\n",
       "      <td>7150000</td>\n",
       "    </tr>\n",
       "    <tr>\n",
       "      <th>...</th>\n",
       "      <td>...</td>\n",
       "      <td>...</td>\n",
       "      <td>...</td>\n",
       "      <td>...</td>\n",
       "      <td>...</td>\n",
       "      <td>...</td>\n",
       "      <td>...</td>\n",
       "      <td>...</td>\n",
       "      <td>...</td>\n",
       "      <td>...</td>\n",
       "      <td>...</td>\n",
       "    </tr>\n",
       "    <tr>\n",
       "      <th>316</th>\n",
       "      <td>1.0</td>\n",
       "      <td>29.9</td>\n",
       "      <td>18.0</td>\n",
       "      <td>6.1</td>\n",
       "      <td>Автозаводский район</td>\n",
       "      <td>2</td>\n",
       "      <td>2</td>\n",
       "      <td>шлакоблок</td>\n",
       "      <td>1948.0</td>\n",
       "      <td>народн. стр.</td>\n",
       "      <td>2999000</td>\n",
       "    </tr>\n",
       "    <tr>\n",
       "      <th>317</th>\n",
       "      <td>1.0</td>\n",
       "      <td>44.5</td>\n",
       "      <td>21.4</td>\n",
       "      <td>9.8</td>\n",
       "      <td>Нижегородский район</td>\n",
       "      <td>4</td>\n",
       "      <td>17</td>\n",
       "      <td>блок+утеплитель</td>\n",
       "      <td>2008.0</td>\n",
       "      <td>undefind</td>\n",
       "      <td>7450000</td>\n",
       "    </tr>\n",
       "    <tr>\n",
       "      <th>318</th>\n",
       "      <td>1.0</td>\n",
       "      <td>31.5</td>\n",
       "      <td>17.8</td>\n",
       "      <td>5.9</td>\n",
       "      <td>Ленинский район</td>\n",
       "      <td>3</td>\n",
       "      <td>5</td>\n",
       "      <td>кирпич</td>\n",
       "      <td>1962.0</td>\n",
       "      <td>хрущ.</td>\n",
       "      <td>4500000</td>\n",
       "    </tr>\n",
       "    <tr>\n",
       "      <th>319</th>\n",
       "      <td>1.0</td>\n",
       "      <td>30.9</td>\n",
       "      <td>18.7</td>\n",
       "      <td>5.5</td>\n",
       "      <td>Московский район</td>\n",
       "      <td>1</td>\n",
       "      <td>5</td>\n",
       "      <td>панель</td>\n",
       "      <td>1969.0</td>\n",
       "      <td>брежн.</td>\n",
       "      <td>3620000</td>\n",
       "    </tr>\n",
       "    <tr>\n",
       "      <th>320</th>\n",
       "      <td>2.0</td>\n",
       "      <td>54.4</td>\n",
       "      <td>30.5</td>\n",
       "      <td>8.4</td>\n",
       "      <td>Нижегородский район</td>\n",
       "      <td>7</td>\n",
       "      <td>9</td>\n",
       "      <td>панель</td>\n",
       "      <td>2005.0</td>\n",
       "      <td>undefind</td>\n",
       "      <td>9540000</td>\n",
       "    </tr>\n",
       "  </tbody>\n",
       "</table>\n",
       "<p>321 rows × 11 columns</p>\n",
       "</div>"
      ],
      "text/plain": [
       "     rooms  area1  area2  area3             district  floor  total_floors  \\\n",
       "0      2.0   44.0   30.0    6.0  Автозаводский район      4             4   \n",
       "1      2.0   32.0   18.1    6.8      Советский район      1             3   \n",
       "2      2.0   45.0   31.2    6.0    Канавинский район      2             5   \n",
       "3      1.0   30.8   18.1    5.8    Канавинский район      2             5   \n",
       "4      2.0   48.0   26.0    9.0     Московский район      5            10   \n",
       "..     ...    ...    ...    ...                  ...    ...           ...   \n",
       "316    1.0   29.9   18.0    6.1  Автозаводский район      2             2   \n",
       "317    1.0   44.5   21.4    9.8  Нижегородский район      4            17   \n",
       "318    1.0   31.5   17.8    5.9      Ленинский район      3             5   \n",
       "319    1.0   30.9   18.7    5.5     Московский район      1             5   \n",
       "320    2.0   54.4   30.5    8.4  Нижегородский район      7             9   \n",
       "\n",
       "       building_type    year additional_info    price  \n",
       "0             кирпич  1961.0           хрущ.  4900000  \n",
       "1             кирпич  1958.0           стал.  4000000  \n",
       "2             кирпич  1972.0           хрущ.  4300000  \n",
       "3             кирпич  1965.0           хрущ.  4200000  \n",
       "4             панель  2016.0        undefind  7150000  \n",
       "..               ...     ...             ...      ...  \n",
       "316        шлакоблок  1948.0    народн. стр.  2999000  \n",
       "317  блок+утеплитель  2008.0        undefind  7450000  \n",
       "318           кирпич  1962.0           хрущ.  4500000  \n",
       "319           панель  1969.0          брежн.  3620000  \n",
       "320           панель  2005.0        undefind  9540000  \n",
       "\n",
       "[321 rows x 11 columns]"
      ]
     },
     "execution_count": 2,
     "metadata": {},
     "output_type": "execute_result"
    }
   ],
   "source": [
    "data = pd.read_csv('data/processed/nnapartment_more_info_nn_only.csv')\n",
    "data"
   ]
  },
  {
   "cell_type": "code",
   "execution_count": 115,
   "id": "1f4ce82e",
   "metadata": {},
   "outputs": [],
   "source": [
    "#выбор K\n",
    "K=2"
   ]
  },
  {
   "cell_type": "code",
   "execution_count": 180,
   "id": "ec7c10e4",
   "metadata": {},
   "outputs": [
    {
     "data": {
      "text/html": [
       "<div>\n",
       "<style scoped>\n",
       "    .dataframe tbody tr th:only-of-type {\n",
       "        vertical-align: middle;\n",
       "    }\n",
       "\n",
       "    .dataframe tbody tr th {\n",
       "        vertical-align: top;\n",
       "    }\n",
       "\n",
       "    .dataframe thead th {\n",
       "        text-align: right;\n",
       "    }\n",
       "</style>\n",
       "<table border=\"1\" class=\"dataframe\">\n",
       "  <thead>\n",
       "    <tr style=\"text-align: right;\">\n",
       "      <th></th>\n",
       "      <th>area1</th>\n",
       "      <th>year</th>\n",
       "    </tr>\n",
       "  </thead>\n",
       "  <tbody>\n",
       "    <tr>\n",
       "      <th>0</th>\n",
       "      <td>44.0</td>\n",
       "      <td>1961.0</td>\n",
       "    </tr>\n",
       "    <tr>\n",
       "      <th>1</th>\n",
       "      <td>32.0</td>\n",
       "      <td>1958.0</td>\n",
       "    </tr>\n",
       "    <tr>\n",
       "      <th>2</th>\n",
       "      <td>45.0</td>\n",
       "      <td>1972.0</td>\n",
       "    </tr>\n",
       "    <tr>\n",
       "      <th>3</th>\n",
       "      <td>30.8</td>\n",
       "      <td>1965.0</td>\n",
       "    </tr>\n",
       "    <tr>\n",
       "      <th>4</th>\n",
       "      <td>48.0</td>\n",
       "      <td>2016.0</td>\n",
       "    </tr>\n",
       "    <tr>\n",
       "      <th>5</th>\n",
       "      <td>12.7</td>\n",
       "      <td>1978.0</td>\n",
       "    </tr>\n",
       "    <tr>\n",
       "      <th>6</th>\n",
       "      <td>27.6</td>\n",
       "      <td>2021.0</td>\n",
       "    </tr>\n",
       "    <tr>\n",
       "      <th>7</th>\n",
       "      <td>44.8</td>\n",
       "      <td>1971.0</td>\n",
       "    </tr>\n",
       "    <tr>\n",
       "      <th>8</th>\n",
       "      <td>59.1</td>\n",
       "      <td>1963.0</td>\n",
       "    </tr>\n",
       "  </tbody>\n",
       "</table>\n",
       "</div>"
      ],
      "text/plain": [
       "   area1    year\n",
       "0   44.0  1961.0\n",
       "1   32.0  1958.0\n",
       "2   45.0  1972.0\n",
       "3   30.8  1965.0\n",
       "4   48.0  2016.0\n",
       "5   12.7  1978.0\n",
       "6   27.6  2021.0\n",
       "7   44.8  1971.0\n",
       "8   59.1  1963.0"
      ]
     },
     "execution_count": 180,
     "metadata": {},
     "output_type": "execute_result"
    }
   ],
   "source": [
    "X = data.drop([\"rooms\",\"total_floors\",\"area2\",\"area3\",\"district\",\"floor\",\"price\",\"building_type\",\"additional_info\"], axis =1)\n",
    "X[:9]"
   ]
  },
  {
   "cell_type": "code",
   "execution_count": 186,
   "id": "ae725fb8",
   "metadata": {},
   "outputs": [
    {
     "data": {
      "text/plain": [
       "<matplotlib.collections.PathCollection at 0x23067496c10>"
      ]
     },
     "execution_count": 186,
     "metadata": {},
     "output_type": "execute_result"
    },
    {
     "data": {
      "image/png": "[encoded data removed]",
      "text/plain": [
       "<Figure size 640x480 with 1 Axes>"
      ]
     },
     "metadata": {},
     "output_type": "display_data"
    }
   ],
   "source": [
    "import matplotlib.pyplot as plt\n",
    "\n",
    "plt.scatter(X_arr[:, 1], X_arr[:, 0])"
   ]
  },
  {
   "cell_type": "code",
   "execution_count": 187,
   "id": "878d0ce1",
   "metadata": {},
   "outputs": [],
   "source": [
    "X_arr=np.array(X)"
   ]
  },
  {
   "cell_type": "code",
   "execution_count": 170,
   "id": "7478f943",
   "metadata": {},
   "outputs": [
    {
     "data": {
      "text/html": [
       "<div>\n",
       "<style scoped>\n",
       "    .dataframe tbody tr th:only-of-type {\n",
       "        vertical-align: middle;\n",
       "    }\n",
       "\n",
       "    .dataframe tbody tr th {\n",
       "        vertical-align: top;\n",
       "    }\n",
       "\n",
       "    .dataframe thead th {\n",
       "        text-align: right;\n",
       "    }\n",
       "</style>\n",
       "<table border=\"1\" class=\"dataframe\">\n",
       "  <thead>\n",
       "    <tr style=\"text-align: right;\">\n",
       "      <th></th>\n",
       "      <th>total_floors</th>\n",
       "      <th>year</th>\n",
       "    </tr>\n",
       "  </thead>\n",
       "  <tbody>\n",
       "    <tr>\n",
       "      <th>6</th>\n",
       "      <td>23</td>\n",
       "      <td>2021.0</td>\n",
       "    </tr>\n",
       "    <tr>\n",
       "      <th>25</th>\n",
       "      <td>22</td>\n",
       "      <td>2023.0</td>\n",
       "    </tr>\n",
       "    <tr>\n",
       "      <th>33</th>\n",
       "      <td>9</td>\n",
       "      <td>2022.0</td>\n",
       "    </tr>\n",
       "    <tr>\n",
       "      <th>39</th>\n",
       "      <td>8</td>\n",
       "      <td>2026.0</td>\n",
       "    </tr>\n",
       "    <tr>\n",
       "      <th>45</th>\n",
       "      <td>10</td>\n",
       "      <td>2023.0</td>\n",
       "    </tr>\n",
       "    <tr>\n",
       "      <th>...</th>\n",
       "      <td>...</td>\n",
       "      <td>...</td>\n",
       "    </tr>\n",
       "    <tr>\n",
       "      <th>297</th>\n",
       "      <td>25</td>\n",
       "      <td>2025.0</td>\n",
       "    </tr>\n",
       "    <tr>\n",
       "      <th>299</th>\n",
       "      <td>19</td>\n",
       "      <td>2026.0</td>\n",
       "    </tr>\n",
       "    <tr>\n",
       "      <th>307</th>\n",
       "      <td>25</td>\n",
       "      <td>2024.0</td>\n",
       "    </tr>\n",
       "    <tr>\n",
       "      <th>311</th>\n",
       "      <td>25</td>\n",
       "      <td>2023.0</td>\n",
       "    </tr>\n",
       "    <tr>\n",
       "      <th>315</th>\n",
       "      <td>25</td>\n",
       "      <td>2025.0</td>\n",
       "    </tr>\n",
       "  </tbody>\n",
       "</table>\n",
       "<p>70 rows × 2 columns</p>\n",
       "</div>"
      ],
      "text/plain": [
       "     total_floors    year\n",
       "6              23  2021.0\n",
       "25             22  2023.0\n",
       "33              9  2022.0\n",
       "39              8  2026.0\n",
       "45             10  2023.0\n",
       "..            ...     ...\n",
       "297            25  2025.0\n",
       "299            19  2026.0\n",
       "307            25  2024.0\n",
       "311            25  2023.0\n",
       "315            25  2025.0\n",
       "\n",
       "[70 rows x 2 columns]"
      ]
     },
     "execution_count": 170,
     "metadata": {},
     "output_type": "execute_result"
    }
   ],
   "source": [
    "X[X.year >=2020]"
   ]
  },
  {
   "cell_type": "code",
   "execution_count": 204,
   "id": "0701bae5",
   "metadata": {},
   "outputs": [],
   "source": [
    "#np.random.choice(X_arr.shape[0], K, replace=False)"
   ]
  },
  {
   "cell_type": "code",
   "execution_count": 203,
   "id": "a603091e",
   "metadata": {},
   "outputs": [
    {
     "data": {
      "text/plain": [
       "array([[  51.12, 2024.  ],\n",
       "       [  36.3 , 2022.  ]])"
      ]
     },
     "execution_count": 203,
     "metadata": {},
     "output_type": "execute_result"
    }
   ],
   "source": [
    "\n",
    "X_arr[np.random.choice(X_arr.shape[0], K, replace=False)]"
   ]
  },
  {
   "cell_type": "code",
   "execution_count": 205,
   "id": "99cf5cdd",
   "metadata": {},
   "outputs": [],
   "source": [
    "#X_arr[2]"
   ]
  },
  {
   "cell_type": "code",
   "execution_count": 206,
   "id": "b0ff268b",
   "metadata": {},
   "outputs": [],
   "source": [
    "import numpy as np\n",
    "\n",
    "def k_means(X, K, max_iters=100):\n",
    "    # Initialize centroids randomly\n",
    "    centroids = X[np.random.choice(X.shape[0], K, replace=False)]\n",
    "    #distances = ((X - np.array(centroids)[:,np.newaxis])**2).sum(axis=2).min(axis=0)\n",
    "    #p = distances / distances.sum()\n",
    "    for i in range(max_iters):\n",
    "        # Step 1: Assignment\n",
    "        # Calculate distances between each point and centroids\n",
    "        distances = ((X - centroids[:, np.newaxis])**2).sum(axis=2)\n",
    "        # Assign each point to the cluster with the nearest centroid\n",
    "        labels = np.argmin(distances, axis=0)\n",
    "        \n",
    "        # Step 2: Update centroids\n",
    "        new_centroids = np.array([X[labels == k].mean(axis=0) for k in range(K)])\n",
    "        \n",
    "        # Check for convergence\n",
    "        if np.allclose(centroids, new_centroids):\n",
    "#             print(f'convergence {i}')\n",
    "            break\n",
    "        \n",
    "        centroids = new_centroids\n",
    "    \n",
    "    return centroids, labels"
   ]
  },
  {
   "cell_type": "code",
   "execution_count": 207,
   "id": "9b9b1875",
   "metadata": {},
   "outputs": [
    {
     "data": {
      "text/plain": [
       "(array([[  46.29665072, 1970.92344498],\n",
       "        [  44.83419643, 2019.61607143]]),\n",
       " array([0, 0, 0, 0, 1, 0, 1, 0, 0, 0, 0, 0, 1, 0, 0, 0, 1, 0, 0, 1, 1, 0,\n",
       "        0, 0, 0, 1, 0, 1, 0, 0, 0, 0, 0, 1, 1, 0, 0, 1, 1, 1, 0, 0, 0, 0,\n",
       "        0, 1, 0, 0, 1, 1, 1, 0, 1, 0, 0, 0, 0, 0, 1, 0, 0, 0, 0, 0, 0, 0,\n",
       "        0, 0, 0, 0, 0, 1, 1, 0, 0, 0, 1, 1, 1, 1, 1, 1, 0, 0, 1, 0, 1, 0,\n",
       "        1, 0, 0, 0, 0, 0, 0, 0, 0, 0, 0, 0, 0, 0, 0, 0, 0, 0, 0, 0, 0, 0,\n",
       "        0, 0, 0, 0, 0, 0, 1, 0, 0, 1, 0, 0, 0, 0, 0, 1, 0, 0, 0, 1, 1, 1,\n",
       "        0, 0, 1, 0, 1, 0, 0, 0, 0, 0, 0, 0, 0, 0, 0, 0, 0, 1, 0, 0, 0, 0,\n",
       "        0, 1, 1, 0, 0, 1, 1, 0, 1, 1, 1, 1, 0, 0, 0, 1, 1, 0, 1, 1, 0, 1,\n",
       "        1, 0, 0, 1, 0, 0, 0, 0, 0, 0, 1, 1, 0, 0, 0, 0, 0, 0, 0, 1, 0, 1,\n",
       "        0, 1, 0, 0, 0, 1, 1, 0, 0, 0, 1, 1, 0, 1, 0, 0, 0, 1, 0, 0, 0, 1,\n",
       "        0, 0, 0, 0, 0, 1, 0, 0, 0, 1, 1, 1, 1, 1, 1, 1, 1, 1, 0, 0, 1, 0,\n",
       "        1, 0, 1, 0, 1, 0, 1, 1, 0, 1, 0, 0, 0, 0, 1, 1, 0, 1, 0, 1, 0, 0,\n",
       "        1, 1, 0, 0, 0, 0, 0, 1, 1, 1, 0, 1, 1, 1, 0, 1, 0, 1, 0, 0, 1, 1,\n",
       "        1, 0, 1, 1, 1, 0, 0, 0, 0, 0, 1, 1, 0, 1, 0, 1, 0, 0, 0, 0, 0, 1,\n",
       "        0, 0, 0, 1, 0, 0, 0, 1, 0, 1, 0, 0, 1], dtype=int64))"
      ]
     },
     "execution_count": 207,
     "metadata": {},
     "output_type": "execute_result"
    }
   ],
   "source": [
    "\n",
    "k_means(X_arr, 2)"
   ]
  },
  {
   "cell_type": "code",
   "execution_count": 208,
   "id": "aa678b44",
   "metadata": {},
   "outputs": [
    {
     "data": {
      "image/png": "[encoded data removed]",
      "text/plain": [
       "<Figure size 640x480 with 1 Axes>"
      ]
     },
     "metadata": {},
     "output_type": "display_data"
    }
   ],
   "source": [
    "import matplotlib.pyplot as plt\n",
    "centroids, labels = k_means(X_arr, 2)\n",
    "\n",
    "plt.scatter(X_arr[:, 0], X_arr[:, 1], c=labels)\n",
    "plt.scatter(centroids[:, 0], centroids[:, 1],s=200)\n",
    "plt.show()"
   ]
  },
  {
   "cell_type": "code",
   "execution_count": 209,
   "id": "37af0d85",
   "metadata": {},
   "outputs": [],
   "source": [
    "def find_optimal_k(X, max_k=10):\n",
    "    distortions = []\n",
    "    for k in range(1, max_k + 1):\n",
    "        centroids, labels = k_means(X, k)\n",
    "        distortion = 0\n",
    "        for i in range(k):\n",
    "            distortion += np.sum((X[labels == i] - centroids[i])**2)\n",
    "        distortions.append(distortion)\n",
    "    \n",
    "    # Plot the elbow curve\n",
    "    plt.plot(range(1, max_k + 1), distortions, marker='o')\n",
    "    plt.xlabel('Number of clusters (K)')\n",
    "    plt.ylabel('WCSS')\n",
    "    plt.title('Elbow Method')\n",
    "    plt.show()"
   ]
  },
  {
   "cell_type": "code",
   "execution_count": 199,
   "id": "510168b4",
   "metadata": {},
   "outputs": [
    {
     "data": {
      "image/png": "[encoded data removed]",
      "text/plain": [
       "<Figure size 640x480 with 1 Axes>"
      ]
     },
     "metadata": {},
     "output_type": "display_data"
    }
   ],
   "source": [
    "find_optimal_k(X_arr, max_k=10)"
   ]
  },
  {
   "cell_type": "code",
   "execution_count": null,
   "id": "510151e8",
   "metadata": {},
   "outputs": [],
   "source": [
    "#получили 2 класса: новостройки и старый фонд"
   ]
  },
  {
   "cell_type": "code",
   "execution_count": null,
   "id": "7df512a4",
   "metadata": {},
   "outputs": [],
   "source": []
  }
 ],
 "metadata": {
  "kernelspec": {
   "display_name": "Python 3 (ipykernel)",
   "language": "python",
   "name": "python3"
  },
  "language_info": {
   "codemirror_mode": {
    "name": "ipython",
    "version": 3
   },
   "file_extension": ".py",
   "mimetype": "text/x-python",
   "name": "python",
   "nbconvert_exporter": "python",
   "pygments_lexer": "ipython3",
   "version": "3.11.4"
  }
 },
 "nbformat": 4,
 "nbformat_minor": 5
}
