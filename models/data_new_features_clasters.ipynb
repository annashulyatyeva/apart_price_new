{
 "cells": [
  {
   "cell_type": "code",
   "execution_count": 5,
   "id": "882cd019",
   "metadata": {},
   "outputs": [],
   "source": [
    "import pandas as pd\n",
    "import numpy as np\n",
    "import matplotlib.pyplot as plt\n",
    "\n"
   ]
  },
  {
   "cell_type": "code",
   "execution_count": 6,
   "id": "bcbdbd35",
   "metadata": {},
   "outputs": [
    {
     "data": {
      "text/html": [
       "<div>\n",
       "<style scoped>\n",
       "    .dataframe tbody tr th:only-of-type {\n",
       "        vertical-align: middle;\n",
       "    }\n",
       "\n",
       "    .dataframe tbody tr th {\n",
       "        vertical-align: top;\n",
       "    }\n",
       "\n",
       "    .dataframe thead th {\n",
       "        text-align: right;\n",
       "    }\n",
       "</style>\n",
       "<table border=\"1\" class=\"dataframe\">\n",
       "  <thead>\n",
       "    <tr style=\"text-align: right;\">\n",
       "      <th></th>\n",
       "      <th>rooms</th>\n",
       "      <th>area1</th>\n",
       "      <th>area2</th>\n",
       "      <th>area3</th>\n",
       "      <th>district</th>\n",
       "      <th>floor</th>\n",
       "      <th>total_floors</th>\n",
       "      <th>building_type</th>\n",
       "      <th>year</th>\n",
       "      <th>additional_info</th>\n",
       "      <th>price</th>\n",
       "    </tr>\n",
       "  </thead>\n",
       "  <tbody>\n",
       "    <tr>\n",
       "      <th>0</th>\n",
       "      <td>2.0</td>\n",
       "      <td>44.0</td>\n",
       "      <td>30.0</td>\n",
       "      <td>6.0</td>\n",
       "      <td>Автозаводский район</td>\n",
       "      <td>4</td>\n",
       "      <td>4</td>\n",
       "      <td>кирпич</td>\n",
       "      <td>1961.0</td>\n",
       "      <td>хрущ.</td>\n",
       "      <td>4900000</td>\n",
       "    </tr>\n",
       "    <tr>\n",
       "      <th>1</th>\n",
       "      <td>2.0</td>\n",
       "      <td>32.0</td>\n",
       "      <td>18.1</td>\n",
       "      <td>6.8</td>\n",
       "      <td>Советский район</td>\n",
       "      <td>1</td>\n",
       "      <td>3</td>\n",
       "      <td>кирпич</td>\n",
       "      <td>1958.0</td>\n",
       "      <td>стал.</td>\n",
       "      <td>4000000</td>\n",
       "    </tr>\n",
       "    <tr>\n",
       "      <th>2</th>\n",
       "      <td>2.0</td>\n",
       "      <td>45.0</td>\n",
       "      <td>31.2</td>\n",
       "      <td>6.0</td>\n",
       "      <td>Канавинский район</td>\n",
       "      <td>2</td>\n",
       "      <td>5</td>\n",
       "      <td>кирпич</td>\n",
       "      <td>1972.0</td>\n",
       "      <td>хрущ.</td>\n",
       "      <td>4300000</td>\n",
       "    </tr>\n",
       "    <tr>\n",
       "      <th>3</th>\n",
       "      <td>1.0</td>\n",
       "      <td>30.8</td>\n",
       "      <td>18.1</td>\n",
       "      <td>5.8</td>\n",
       "      <td>Канавинский район</td>\n",
       "      <td>2</td>\n",
       "      <td>5</td>\n",
       "      <td>кирпич</td>\n",
       "      <td>1965.0</td>\n",
       "      <td>хрущ.</td>\n",
       "      <td>4200000</td>\n",
       "    </tr>\n",
       "    <tr>\n",
       "      <th>4</th>\n",
       "      <td>2.0</td>\n",
       "      <td>48.0</td>\n",
       "      <td>26.0</td>\n",
       "      <td>9.0</td>\n",
       "      <td>Московский район</td>\n",
       "      <td>5</td>\n",
       "      <td>10</td>\n",
       "      <td>панель</td>\n",
       "      <td>2016.0</td>\n",
       "      <td>undefind</td>\n",
       "      <td>7150000</td>\n",
       "    </tr>\n",
       "    <tr>\n",
       "      <th>...</th>\n",
       "      <td>...</td>\n",
       "      <td>...</td>\n",
       "      <td>...</td>\n",
       "      <td>...</td>\n",
       "      <td>...</td>\n",
       "      <td>...</td>\n",
       "      <td>...</td>\n",
       "      <td>...</td>\n",
       "      <td>...</td>\n",
       "      <td>...</td>\n",
       "      <td>...</td>\n",
       "    </tr>\n",
       "    <tr>\n",
       "      <th>316</th>\n",
       "      <td>1.0</td>\n",
       "      <td>29.9</td>\n",
       "      <td>18.0</td>\n",
       "      <td>6.1</td>\n",
       "      <td>Автозаводский район</td>\n",
       "      <td>2</td>\n",
       "      <td>2</td>\n",
       "      <td>шлакоблок</td>\n",
       "      <td>1948.0</td>\n",
       "      <td>народн. стр.</td>\n",
       "      <td>2999000</td>\n",
       "    </tr>\n",
       "    <tr>\n",
       "      <th>317</th>\n",
       "      <td>1.0</td>\n",
       "      <td>44.5</td>\n",
       "      <td>21.4</td>\n",
       "      <td>9.8</td>\n",
       "      <td>Нижегородский район</td>\n",
       "      <td>4</td>\n",
       "      <td>17</td>\n",
       "      <td>блок+утеплитель</td>\n",
       "      <td>2008.0</td>\n",
       "      <td>undefind</td>\n",
       "      <td>7450000</td>\n",
       "    </tr>\n",
       "    <tr>\n",
       "      <th>318</th>\n",
       "      <td>1.0</td>\n",
       "      <td>31.5</td>\n",
       "      <td>17.8</td>\n",
       "      <td>5.9</td>\n",
       "      <td>Ленинский район</td>\n",
       "      <td>3</td>\n",
       "      <td>5</td>\n",
       "      <td>кирпич</td>\n",
       "      <td>1962.0</td>\n",
       "      <td>хрущ.</td>\n",
       "      <td>4500000</td>\n",
       "    </tr>\n",
       "    <tr>\n",
       "      <th>319</th>\n",
       "      <td>1.0</td>\n",
       "      <td>30.9</td>\n",
       "      <td>18.7</td>\n",
       "      <td>5.5</td>\n",
       "      <td>Московский район</td>\n",
       "      <td>1</td>\n",
       "      <td>5</td>\n",
       "      <td>панель</td>\n",
       "      <td>1969.0</td>\n",
       "      <td>брежн.</td>\n",
       "      <td>3620000</td>\n",
       "    </tr>\n",
       "    <tr>\n",
       "      <th>320</th>\n",
       "      <td>2.0</td>\n",
       "      <td>54.4</td>\n",
       "      <td>30.5</td>\n",
       "      <td>8.4</td>\n",
       "      <td>Нижегородский район</td>\n",
       "      <td>7</td>\n",
       "      <td>9</td>\n",
       "      <td>панель</td>\n",
       "      <td>2005.0</td>\n",
       "      <td>undefind</td>\n",
       "      <td>9540000</td>\n",
       "    </tr>\n",
       "  </tbody>\n",
       "</table>\n",
       "<p>321 rows × 11 columns</p>\n",
       "</div>"
      ],
      "text/plain": [
       "     rooms  area1  area2  area3             district  floor  total_floors  \\\n",
       "0      2.0   44.0   30.0    6.0  Автозаводский район      4             4   \n",
       "1      2.0   32.0   18.1    6.8      Советский район      1             3   \n",
       "2      2.0   45.0   31.2    6.0    Канавинский район      2             5   \n",
       "3      1.0   30.8   18.1    5.8    Канавинский район      2             5   \n",
       "4      2.0   48.0   26.0    9.0     Московский район      5            10   \n",
       "..     ...    ...    ...    ...                  ...    ...           ...   \n",
       "316    1.0   29.9   18.0    6.1  Автозаводский район      2             2   \n",
       "317    1.0   44.5   21.4    9.8  Нижегородский район      4            17   \n",
       "318    1.0   31.5   17.8    5.9      Ленинский район      3             5   \n",
       "319    1.0   30.9   18.7    5.5     Московский район      1             5   \n",
       "320    2.0   54.4   30.5    8.4  Нижегородский район      7             9   \n",
       "\n",
       "       building_type    year additional_info    price  \n",
       "0             кирпич  1961.0           хрущ.  4900000  \n",
       "1             кирпич  1958.0           стал.  4000000  \n",
       "2             кирпич  1972.0           хрущ.  4300000  \n",
       "3             кирпич  1965.0           хрущ.  4200000  \n",
       "4             панель  2016.0        undefind  7150000  \n",
       "..               ...     ...             ...      ...  \n",
       "316        шлакоблок  1948.0    народн. стр.  2999000  \n",
       "317  блок+утеплитель  2008.0        undefind  7450000  \n",
       "318           кирпич  1962.0           хрущ.  4500000  \n",
       "319           панель  1969.0          брежн.  3620000  \n",
       "320           панель  2005.0        undefind  9540000  \n",
       "\n",
       "[321 rows x 11 columns]"
      ]
     },
     "execution_count": 6,
     "metadata": {},
     "output_type": "execute_result"
    }
   ],
   "source": [
    "data = pd.read_csv('data/processed/nnapartment_more_info_nn_only.csv')\n",
    "data"
   ]
  },
  {
   "cell_type": "code",
   "execution_count": 7,
   "id": "5769c959",
   "metadata": {},
   "outputs": [
    {
     "data": {
      "text/html": [
       "<div>\n",
       "<style scoped>\n",
       "    .dataframe tbody tr th:only-of-type {\n",
       "        vertical-align: middle;\n",
       "    }\n",
       "\n",
       "    .dataframe tbody tr th {\n",
       "        vertical-align: top;\n",
       "    }\n",
       "\n",
       "    .dataframe thead th {\n",
       "        text-align: right;\n",
       "    }\n",
       "</style>\n",
       "<table border=\"1\" class=\"dataframe\">\n",
       "  <thead>\n",
       "    <tr style=\"text-align: right;\">\n",
       "      <th></th>\n",
       "      <th>area1</th>\n",
       "      <th>year</th>\n",
       "    </tr>\n",
       "  </thead>\n",
       "  <tbody>\n",
       "    <tr>\n",
       "      <th>0</th>\n",
       "      <td>44.0</td>\n",
       "      <td>1961.0</td>\n",
       "    </tr>\n",
       "    <tr>\n",
       "      <th>1</th>\n",
       "      <td>32.0</td>\n",
       "      <td>1958.0</td>\n",
       "    </tr>\n",
       "    <tr>\n",
       "      <th>2</th>\n",
       "      <td>45.0</td>\n",
       "      <td>1972.0</td>\n",
       "    </tr>\n",
       "    <tr>\n",
       "      <th>3</th>\n",
       "      <td>30.8</td>\n",
       "      <td>1965.0</td>\n",
       "    </tr>\n",
       "    <tr>\n",
       "      <th>4</th>\n",
       "      <td>48.0</td>\n",
       "      <td>2016.0</td>\n",
       "    </tr>\n",
       "    <tr>\n",
       "      <th>5</th>\n",
       "      <td>12.7</td>\n",
       "      <td>1978.0</td>\n",
       "    </tr>\n",
       "    <tr>\n",
       "      <th>6</th>\n",
       "      <td>27.6</td>\n",
       "      <td>2021.0</td>\n",
       "    </tr>\n",
       "    <tr>\n",
       "      <th>7</th>\n",
       "      <td>44.8</td>\n",
       "      <td>1971.0</td>\n",
       "    </tr>\n",
       "    <tr>\n",
       "      <th>8</th>\n",
       "      <td>59.1</td>\n",
       "      <td>1963.0</td>\n",
       "    </tr>\n",
       "  </tbody>\n",
       "</table>\n",
       "</div>"
      ],
      "text/plain": [
       "   area1    year\n",
       "0   44.0  1961.0\n",
       "1   32.0  1958.0\n",
       "2   45.0  1972.0\n",
       "3   30.8  1965.0\n",
       "4   48.0  2016.0\n",
       "5   12.7  1978.0\n",
       "6   27.6  2021.0\n",
       "7   44.8  1971.0\n",
       "8   59.1  1963.0"
      ]
     },
     "execution_count": 7,
     "metadata": {},
     "output_type": "execute_result"
    }
   ],
   "source": [
    "X_claster = data.drop([\"rooms\",\"total_floors\",\"area2\",\"area3\",\"district\",\"floor\",\"price\",\"building_type\",\"additional_info\"], axis =1)\n",
    "X_claster[:9]"
   ]
  },
  {
   "cell_type": "code",
   "execution_count": 14,
   "id": "9263e3bf",
   "metadata": {},
   "outputs": [
    {
     "data": {
      "text/plain": [
       "(321, 2)"
      ]
     },
     "execution_count": 14,
     "metadata": {},
     "output_type": "execute_result"
    }
   ],
   "source": [
    "X_arr=np.array(X_claster)\n",
    "X_arr.shape"
   ]
  },
  {
   "cell_type": "code",
   "execution_count": 49,
   "id": "ab3ae6ef",
   "metadata": {},
   "outputs": [
    {
     "data": {
      "text/plain": [
       "<matplotlib.collections.PathCollection at 0x21ec9b4f450>"
      ]
     },
     "execution_count": 49,
     "metadata": {},
     "output_type": "execute_result"
    },
    {
     "data": {
      "image/png": "[encoded data removed]",
      "text/plain": [
       "<Figure size 640x480 with 1 Axes>"
      ]
     },
     "metadata": {},
     "output_type": "display_data"
    }
   ],
   "source": [
    "#look to the plot\n",
    "\n",
    "plt.scatter(X_arr[:, 0], X_arr[:, 1])"
   ]
  },
  {
   "cell_type": "code",
   "execution_count": 50,
   "id": "e81018eb",
   "metadata": {},
   "outputs": [],
   "source": [
    "#find our k (but obviously k=2 )\n",
    "\n",
    "def find_optimal_k(X, max_k=10):\n",
    "    distortions = []\n",
    "    for k in range(1, max_k + 1):\n",
    "        centroids, labels = k_means(X, k)\n",
    "        distortion = 0\n",
    "        for i in range(k):\n",
    "            distortion += np.sum((X[labels == i] - centroids[i])**2)\n",
    "        distortions.append(distortion)\n",
    "    \n",
    "    # Plot the elbow curve\n",
    "    plt.plot(range(1, max_k + 1), distortions, marker='o')\n",
    "    plt.xlabel('Number of clusters (K)')\n",
    "    plt.ylabel('WCSS')\n",
    "    plt.title('Elbow Method')\n",
    "    plt.show()"
   ]
  },
  {
   "cell_type": "code",
   "execution_count": 17,
   "id": "43496dca",
   "metadata": {},
   "outputs": [
    {
     "data": {
      "image/png": "[encoded data removed]",
      "text/plain": [
       "<Figure size 640x480 with 1 Axes>"
      ]
     },
     "metadata": {},
     "output_type": "display_data"
    }
   ],
   "source": [
    "find_optimal_k(X_arr, max_k=10)"
   ]
  },
  {
   "cell_type": "code",
   "execution_count": 18,
   "id": "94c5ecbb",
   "metadata": {},
   "outputs": [],
   "source": [
    "#take k=2"
   ]
  },
  {
   "cell_type": "code",
   "execution_count": 19,
   "id": "a94c7c44",
   "metadata": {},
   "outputs": [],
   "source": [
    "def k_means(X, K, max_iters=100):\n",
    "    # Initialize centroids randomly\n",
    "    centroids = X[np.random.choice(X.shape[0], K, replace=False)]\n",
    "    for i in range(max_iters):\n",
    "        # Step 1: Assignment\n",
    "        # Calculate distances between each point and centroids\n",
    "        distances = ((X - centroids[:, np.newaxis])**2).sum(axis=2)\n",
    "        # Assign each point to the cluster with the nearest centroid\n",
    "        labels = np.argmin(distances, axis=0)\n",
    "        \n",
    "        # Step 2: Update centroids\n",
    "        new_centroids = np.array([X[labels == k].mean(axis=0) for k in range(K)])\n",
    "        \n",
    "        # Check for convergence\n",
    "        if np.allclose(centroids, new_centroids):\n",
    "#             print(f'convergence {i}')\n",
    "            break\n",
    "        \n",
    "        centroids = new_centroids\n",
    "    \n",
    "    return centroids, labels"
   ]
  },
  {
   "cell_type": "code",
   "execution_count": 20,
   "id": "04eef44c",
   "metadata": {},
   "outputs": [
    {
     "data": {
      "text/plain": [
       "(array([[  44.83419643, 2019.61607143],\n",
       "        [  46.29665072, 1970.92344498]]),\n",
       " array([1, 1, 1, 1, 0, 1, 0, 1, 1, 1, 1, 1, 0, 1, 1, 1, 0, 1, 1, 0, 0, 1,\n",
       "        1, 1, 1, 0, 1, 0, 1, 1, 1, 1, 1, 0, 0, 1, 1, 0, 0, 0, 1, 1, 1, 1,\n",
       "        1, 0, 1, 1, 0, 0, 0, 1, 0, 1, 1, 1, 1, 1, 0, 1, 1, 1, 1, 1, 1, 1,\n",
       "        1, 1, 1, 1, 1, 0, 0, 1, 1, 1, 0, 0, 0, 0, 0, 0, 1, 1, 0, 1, 0, 1,\n",
       "        0, 1, 1, 1, 1, 1, 1, 1, 1, 1, 1, 1, 1, 1, 1, 1, 1, 1, 1, 1, 1, 1,\n",
       "        1, 1, 1, 1, 1, 1, 0, 1, 1, 0, 1, 1, 1, 1, 1, 0, 1, 1, 1, 0, 0, 0,\n",
       "        1, 1, 0, 1, 0, 1, 1, 1, 1, 1, 1, 1, 1, 1, 1, 1, 1, 0, 1, 1, 1, 1,\n",
       "        1, 0, 0, 1, 1, 0, 0, 1, 0, 0, 0, 0, 1, 1, 1, 0, 0, 1, 0, 0, 1, 0,\n",
       "        0, 1, 1, 0, 1, 1, 1, 1, 1, 1, 0, 0, 1, 1, 1, 1, 1, 1, 1, 0, 1, 0,\n",
       "        1, 0, 1, 1, 1, 0, 0, 1, 1, 1, 0, 0, 1, 0, 1, 1, 1, 0, 1, 1, 1, 0,\n",
       "        1, 1, 1, 1, 1, 0, 1, 1, 1, 0, 0, 0, 0, 0, 0, 0, 0, 0, 1, 1, 0, 1,\n",
       "        0, 1, 0, 1, 0, 1, 0, 0, 1, 0, 1, 1, 1, 1, 0, 0, 1, 0, 1, 0, 1, 1,\n",
       "        0, 0, 1, 1, 1, 1, 1, 0, 0, 0, 1, 0, 0, 0, 1, 0, 1, 0, 1, 1, 0, 0,\n",
       "        0, 1, 0, 0, 0, 1, 1, 1, 1, 1, 0, 0, 1, 0, 1, 0, 1, 1, 1, 1, 1, 0,\n",
       "        1, 1, 1, 0, 1, 1, 1, 0, 1, 0, 1, 1, 0], dtype=int64))"
      ]
     },
     "execution_count": 20,
     "metadata": {},
     "output_type": "execute_result"
    }
   ],
   "source": [
    "k_means(X_arr, 2)"
   ]
  },
  {
   "cell_type": "code",
   "execution_count": 52,
   "id": "b44b1c1b",
   "metadata": {},
   "outputs": [
    {
     "data": {
      "image/png": "[encoded data removed]",
      "text/plain": [
       "<Figure size 640x480 with 1 Axes>"
      ]
     },
     "metadata": {},
     "output_type": "display_data"
    }
   ],
   "source": [
    "centroids, labels = k_means(X_arr, 2)\n",
    "\n",
    "plt.scatter(X_arr[:, 0], X_arr[:, 1], c=labels)\n",
    "plt.scatter(centroids[:, 0], centroids[:, 1],s=200)\n",
    "plt.show()"
   ]
  },
  {
   "cell_type": "code",
   "execution_count": 22,
   "id": "d4a404c5",
   "metadata": {},
   "outputs": [],
   "source": [
    "#k = 2 acceptable"
   ]
  },
  {
   "cell_type": "code",
   "execution_count": 23,
   "id": "8a3ab8c8",
   "metadata": {},
   "outputs": [
    {
     "data": {
      "text/plain": [
       "int"
      ]
     },
     "execution_count": 23,
     "metadata": {},
     "output_type": "execute_result"
    }
   ],
   "source": [
    "type(labels.shape[0])"
   ]
  },
  {
   "cell_type": "code",
   "execution_count": null,
   "id": "ac649156",
   "metadata": {},
   "outputs": [],
   "source": []
  },
  {
   "cell_type": "code",
   "execution_count": 24,
   "id": "1a992e09",
   "metadata": {},
   "outputs": [
    {
     "data": {
      "text/plain": [
       "numpy.ndarray"
      ]
     },
     "execution_count": 24,
     "metadata": {},
     "output_type": "execute_result"
    }
   ],
   "source": [
    "type(labels)"
   ]
  },
  {
   "cell_type": "code",
   "execution_count": 25,
   "id": "a58ac874",
   "metadata": {},
   "outputs": [
    {
     "data": {
      "text/plain": [
       "True"
      ]
     },
     "execution_count": 25,
     "metadata": {},
     "output_type": "execute_result"
    }
   ],
   "source": [
    "labels[20]==0"
   ]
  },
  {
   "cell_type": "code",
   "execution_count": 53,
   "id": "685e3ba9",
   "metadata": {},
   "outputs": [
    {
     "data": {
      "text/plain": [
       "(321,)"
      ]
     },
     "execution_count": 53,
     "metadata": {},
     "output_type": "execute_result"
    }
   ],
   "source": [
    "cat_lebels=[]\n",
    "for i in range(0,labels.shape[0]):\n",
    "    if labels[i] == 0:\n",
    "        cat_lebels.append(\"новый_дом\")\n",
    "    else:\n",
    "        cat_lebels.append(\"старый_дом\")\n",
    "cat_lebels=np.array(cat_lebels)\n",
    "cat_lebels.shape"
   ]
  },
  {
   "cell_type": "code",
   "execution_count": 54,
   "id": "dd321469",
   "metadata": {},
   "outputs": [
    {
     "data": {
      "text/html": [
       "<div>\n",
       "<style scoped>\n",
       "    .dataframe tbody tr th:only-of-type {\n",
       "        vertical-align: middle;\n",
       "    }\n",
       "\n",
       "    .dataframe tbody tr th {\n",
       "        vertical-align: top;\n",
       "    }\n",
       "\n",
       "    .dataframe thead th {\n",
       "        text-align: right;\n",
       "    }\n",
       "</style>\n",
       "<table border=\"1\" class=\"dataframe\">\n",
       "  <thead>\n",
       "    <tr style=\"text-align: right;\">\n",
       "      <th></th>\n",
       "      <th>rooms</th>\n",
       "      <th>area1</th>\n",
       "      <th>district</th>\n",
       "      <th>building_type</th>\n",
       "      <th>price</th>\n",
       "      <th>year_type</th>\n",
       "      <th>no_first_no_last</th>\n",
       "      <th>area3_bins</th>\n",
       "    </tr>\n",
       "  </thead>\n",
       "  <tbody>\n",
       "    <tr>\n",
       "      <th>0</th>\n",
       "      <td>2.0</td>\n",
       "      <td>44.0</td>\n",
       "      <td>Автозаводский район</td>\n",
       "      <td>кирпич</td>\n",
       "      <td>4900000</td>\n",
       "      <td>старый_дом</td>\n",
       "      <td>False</td>\n",
       "      <td>1.0</td>\n",
       "    </tr>\n",
       "    <tr>\n",
       "      <th>1</th>\n",
       "      <td>2.0</td>\n",
       "      <td>32.0</td>\n",
       "      <td>Советский район</td>\n",
       "      <td>кирпич</td>\n",
       "      <td>4000000</td>\n",
       "      <td>старый_дом</td>\n",
       "      <td>False</td>\n",
       "      <td>1.0</td>\n",
       "    </tr>\n",
       "    <tr>\n",
       "      <th>2</th>\n",
       "      <td>2.0</td>\n",
       "      <td>45.0</td>\n",
       "      <td>Канавинский район</td>\n",
       "      <td>кирпич</td>\n",
       "      <td>4300000</td>\n",
       "      <td>старый_дом</td>\n",
       "      <td>True</td>\n",
       "      <td>1.0</td>\n",
       "    </tr>\n",
       "    <tr>\n",
       "      <th>3</th>\n",
       "      <td>1.0</td>\n",
       "      <td>30.8</td>\n",
       "      <td>Канавинский район</td>\n",
       "      <td>кирпич</td>\n",
       "      <td>4200000</td>\n",
       "      <td>старый_дом</td>\n",
       "      <td>True</td>\n",
       "      <td>0.0</td>\n",
       "    </tr>\n",
       "    <tr>\n",
       "      <th>4</th>\n",
       "      <td>2.0</td>\n",
       "      <td>48.0</td>\n",
       "      <td>Московский район</td>\n",
       "      <td>панель</td>\n",
       "      <td>7150000</td>\n",
       "      <td>новый_дом</td>\n",
       "      <td>True</td>\n",
       "      <td>1.0</td>\n",
       "    </tr>\n",
       "    <tr>\n",
       "      <th>...</th>\n",
       "      <td>...</td>\n",
       "      <td>...</td>\n",
       "      <td>...</td>\n",
       "      <td>...</td>\n",
       "      <td>...</td>\n",
       "      <td>...</td>\n",
       "      <td>...</td>\n",
       "      <td>...</td>\n",
       "    </tr>\n",
       "    <tr>\n",
       "      <th>316</th>\n",
       "      <td>1.0</td>\n",
       "      <td>29.9</td>\n",
       "      <td>Автозаводский район</td>\n",
       "      <td>шлакоблок</td>\n",
       "      <td>2999000</td>\n",
       "      <td>старый_дом</td>\n",
       "      <td>False</td>\n",
       "      <td>1.0</td>\n",
       "    </tr>\n",
       "    <tr>\n",
       "      <th>317</th>\n",
       "      <td>1.0</td>\n",
       "      <td>44.5</td>\n",
       "      <td>Нижегородский район</td>\n",
       "      <td>блок+утеплитель</td>\n",
       "      <td>7450000</td>\n",
       "      <td>новый_дом</td>\n",
       "      <td>True</td>\n",
       "      <td>1.0</td>\n",
       "    </tr>\n",
       "    <tr>\n",
       "      <th>318</th>\n",
       "      <td>1.0</td>\n",
       "      <td>31.5</td>\n",
       "      <td>Ленинский район</td>\n",
       "      <td>кирпич</td>\n",
       "      <td>4500000</td>\n",
       "      <td>старый_дом</td>\n",
       "      <td>True</td>\n",
       "      <td>0.0</td>\n",
       "    </tr>\n",
       "    <tr>\n",
       "      <th>319</th>\n",
       "      <td>1.0</td>\n",
       "      <td>30.9</td>\n",
       "      <td>Московский район</td>\n",
       "      <td>панель</td>\n",
       "      <td>3620000</td>\n",
       "      <td>старый_дом</td>\n",
       "      <td>False</td>\n",
       "      <td>0.0</td>\n",
       "    </tr>\n",
       "    <tr>\n",
       "      <th>320</th>\n",
       "      <td>2.0</td>\n",
       "      <td>54.4</td>\n",
       "      <td>Нижегородский район</td>\n",
       "      <td>панель</td>\n",
       "      <td>9540000</td>\n",
       "      <td>новый_дом</td>\n",
       "      <td>True</td>\n",
       "      <td>1.0</td>\n",
       "    </tr>\n",
       "  </tbody>\n",
       "</table>\n",
       "<p>321 rows × 8 columns</p>\n",
       "</div>"
      ],
      "text/plain": [
       "     rooms  area1             district    building_type    price   year_type  \\\n",
       "0      2.0   44.0  Автозаводский район           кирпич  4900000  старый_дом   \n",
       "1      2.0   32.0      Советский район           кирпич  4000000  старый_дом   \n",
       "2      2.0   45.0    Канавинский район           кирпич  4300000  старый_дом   \n",
       "3      1.0   30.8    Канавинский район           кирпич  4200000  старый_дом   \n",
       "4      2.0   48.0     Московский район           панель  7150000   новый_дом   \n",
       "..     ...    ...                  ...              ...      ...         ...   \n",
       "316    1.0   29.9  Автозаводский район        шлакоблок  2999000  старый_дом   \n",
       "317    1.0   44.5  Нижегородский район  блок+утеплитель  7450000   новый_дом   \n",
       "318    1.0   31.5      Ленинский район           кирпич  4500000  старый_дом   \n",
       "319    1.0   30.9     Московский район           панель  3620000  старый_дом   \n",
       "320    2.0   54.4  Нижегородский район           панель  9540000   новый_дом   \n",
       "\n",
       "     no_first_no_last  area3_bins  \n",
       "0               False         1.0  \n",
       "1               False         1.0  \n",
       "2                True         1.0  \n",
       "3                True         0.0  \n",
       "4                True         1.0  \n",
       "..                ...         ...  \n",
       "316             False         1.0  \n",
       "317              True         1.0  \n",
       "318              True         0.0  \n",
       "319             False         0.0  \n",
       "320              True         1.0  \n",
       "\n",
       "[321 rows x 8 columns]"
      ]
     },
     "execution_count": 54,
     "metadata": {},
     "output_type": "execute_result"
    }
   ],
   "source": [
    "data[\"year_type\"] = pd.Series(cat_lebels)\n",
    "data"
   ]
  },
  {
   "cell_type": "code",
   "execution_count": 55,
   "id": "f7247dce",
   "metadata": {},
   "outputs": [
    {
     "ename": "KeyError",
     "evalue": "\"['year'] not found in axis\"",
     "output_type": "error",
     "traceback": [
      "\u001b[1;31m---------------------------------------------------------------------------\u001b[0m",
      "\u001b[1;31mKeyError\u001b[0m                                  Traceback (most recent call last)",
      "Cell \u001b[1;32mIn[55], line 1\u001b[0m\n\u001b[1;32m----> 1\u001b[0m data \u001b[38;5;241m=\u001b[39m data\u001b[38;5;241m.\u001b[39mdrop([\u001b[38;5;124m\"\u001b[39m\u001b[38;5;124myear\u001b[39m\u001b[38;5;124m\"\u001b[39m], axis \u001b[38;5;241m=\u001b[39m\u001b[38;5;241m1\u001b[39m)\n",
      "File \u001b[1;32m~\\anaconda3\\Lib\\site-packages\\pandas\\util\\_decorators.py:331\u001b[0m, in \u001b[0;36mdeprecate_nonkeyword_arguments.<locals>.decorate.<locals>.wrapper\u001b[1;34m(*args, **kwargs)\u001b[0m\n\u001b[0;32m    325\u001b[0m \u001b[38;5;28;01mif\u001b[39;00m \u001b[38;5;28mlen\u001b[39m(args) \u001b[38;5;241m>\u001b[39m num_allow_args:\n\u001b[0;32m    326\u001b[0m     warnings\u001b[38;5;241m.\u001b[39mwarn(\n\u001b[0;32m    327\u001b[0m         msg\u001b[38;5;241m.\u001b[39mformat(arguments\u001b[38;5;241m=\u001b[39m_format_argument_list(allow_args)),\n\u001b[0;32m    328\u001b[0m         \u001b[38;5;167;01mFutureWarning\u001b[39;00m,\n\u001b[0;32m    329\u001b[0m         stacklevel\u001b[38;5;241m=\u001b[39mfind_stack_level(),\n\u001b[0;32m    330\u001b[0m     )\n\u001b[1;32m--> 331\u001b[0m \u001b[38;5;28;01mreturn\u001b[39;00m func(\u001b[38;5;241m*\u001b[39margs, \u001b[38;5;241m*\u001b[39m\u001b[38;5;241m*\u001b[39mkwargs)\n",
      "File \u001b[1;32m~\\anaconda3\\Lib\\site-packages\\pandas\\core\\frame.py:5399\u001b[0m, in \u001b[0;36mDataFrame.drop\u001b[1;34m(self, labels, axis, index, columns, level, inplace, errors)\u001b[0m\n\u001b[0;32m   5251\u001b[0m \u001b[38;5;129m@deprecate_nonkeyword_arguments\u001b[39m(version\u001b[38;5;241m=\u001b[39m\u001b[38;5;28;01mNone\u001b[39;00m, allowed_args\u001b[38;5;241m=\u001b[39m[\u001b[38;5;124m\"\u001b[39m\u001b[38;5;124mself\u001b[39m\u001b[38;5;124m\"\u001b[39m, \u001b[38;5;124m\"\u001b[39m\u001b[38;5;124mlabels\u001b[39m\u001b[38;5;124m\"\u001b[39m])\n\u001b[0;32m   5252\u001b[0m \u001b[38;5;28;01mdef\u001b[39;00m \u001b[38;5;21mdrop\u001b[39m(  \u001b[38;5;66;03m# type: ignore[override]\u001b[39;00m\n\u001b[0;32m   5253\u001b[0m     \u001b[38;5;28mself\u001b[39m,\n\u001b[1;32m   (...)\u001b[0m\n\u001b[0;32m   5260\u001b[0m     errors: IgnoreRaise \u001b[38;5;241m=\u001b[39m \u001b[38;5;124m\"\u001b[39m\u001b[38;5;124mraise\u001b[39m\u001b[38;5;124m\"\u001b[39m,\n\u001b[0;32m   5261\u001b[0m ) \u001b[38;5;241m-\u001b[39m\u001b[38;5;241m>\u001b[39m DataFrame \u001b[38;5;241m|\u001b[39m \u001b[38;5;28;01mNone\u001b[39;00m:\n\u001b[0;32m   5262\u001b[0m \u001b[38;5;250m    \u001b[39m\u001b[38;5;124;03m\"\"\"\u001b[39;00m\n\u001b[0;32m   5263\u001b[0m \u001b[38;5;124;03m    Drop specified labels from rows or columns.\u001b[39;00m\n\u001b[0;32m   5264\u001b[0m \n\u001b[1;32m   (...)\u001b[0m\n\u001b[0;32m   5397\u001b[0m \u001b[38;5;124;03m            weight  1.0     0.8\u001b[39;00m\n\u001b[0;32m   5398\u001b[0m \u001b[38;5;124;03m    \"\"\"\u001b[39;00m\n\u001b[1;32m-> 5399\u001b[0m     \u001b[38;5;28;01mreturn\u001b[39;00m \u001b[38;5;28msuper\u001b[39m()\u001b[38;5;241m.\u001b[39mdrop(\n\u001b[0;32m   5400\u001b[0m         labels\u001b[38;5;241m=\u001b[39mlabels,\n\u001b[0;32m   5401\u001b[0m         axis\u001b[38;5;241m=\u001b[39maxis,\n\u001b[0;32m   5402\u001b[0m         index\u001b[38;5;241m=\u001b[39mindex,\n\u001b[0;32m   5403\u001b[0m         columns\u001b[38;5;241m=\u001b[39mcolumns,\n\u001b[0;32m   5404\u001b[0m         level\u001b[38;5;241m=\u001b[39mlevel,\n\u001b[0;32m   5405\u001b[0m         inplace\u001b[38;5;241m=\u001b[39minplace,\n\u001b[0;32m   5406\u001b[0m         errors\u001b[38;5;241m=\u001b[39merrors,\n\u001b[0;32m   5407\u001b[0m     )\n",
      "File \u001b[1;32m~\\anaconda3\\Lib\\site-packages\\pandas\\util\\_decorators.py:331\u001b[0m, in \u001b[0;36mdeprecate_nonkeyword_arguments.<locals>.decorate.<locals>.wrapper\u001b[1;34m(*args, **kwargs)\u001b[0m\n\u001b[0;32m    325\u001b[0m \u001b[38;5;28;01mif\u001b[39;00m \u001b[38;5;28mlen\u001b[39m(args) \u001b[38;5;241m>\u001b[39m num_allow_args:\n\u001b[0;32m    326\u001b[0m     warnings\u001b[38;5;241m.\u001b[39mwarn(\n\u001b[0;32m    327\u001b[0m         msg\u001b[38;5;241m.\u001b[39mformat(arguments\u001b[38;5;241m=\u001b[39m_format_argument_list(allow_args)),\n\u001b[0;32m    328\u001b[0m         \u001b[38;5;167;01mFutureWarning\u001b[39;00m,\n\u001b[0;32m    329\u001b[0m         stacklevel\u001b[38;5;241m=\u001b[39mfind_stack_level(),\n\u001b[0;32m    330\u001b[0m     )\n\u001b[1;32m--> 331\u001b[0m \u001b[38;5;28;01mreturn\u001b[39;00m func(\u001b[38;5;241m*\u001b[39margs, \u001b[38;5;241m*\u001b[39m\u001b[38;5;241m*\u001b[39mkwargs)\n",
      "File \u001b[1;32m~\\anaconda3\\Lib\\site-packages\\pandas\\core\\generic.py:4505\u001b[0m, in \u001b[0;36mNDFrame.drop\u001b[1;34m(self, labels, axis, index, columns, level, inplace, errors)\u001b[0m\n\u001b[0;32m   4503\u001b[0m \u001b[38;5;28;01mfor\u001b[39;00m axis, labels \u001b[38;5;129;01min\u001b[39;00m axes\u001b[38;5;241m.\u001b[39mitems():\n\u001b[0;32m   4504\u001b[0m     \u001b[38;5;28;01mif\u001b[39;00m labels \u001b[38;5;129;01mis\u001b[39;00m \u001b[38;5;129;01mnot\u001b[39;00m \u001b[38;5;28;01mNone\u001b[39;00m:\n\u001b[1;32m-> 4505\u001b[0m         obj \u001b[38;5;241m=\u001b[39m obj\u001b[38;5;241m.\u001b[39m_drop_axis(labels, axis, level\u001b[38;5;241m=\u001b[39mlevel, errors\u001b[38;5;241m=\u001b[39merrors)\n\u001b[0;32m   4507\u001b[0m \u001b[38;5;28;01mif\u001b[39;00m inplace:\n\u001b[0;32m   4508\u001b[0m     \u001b[38;5;28mself\u001b[39m\u001b[38;5;241m.\u001b[39m_update_inplace(obj)\n",
      "File \u001b[1;32m~\\anaconda3\\Lib\\site-packages\\pandas\\core\\generic.py:4546\u001b[0m, in \u001b[0;36mNDFrame._drop_axis\u001b[1;34m(self, labels, axis, level, errors, only_slice)\u001b[0m\n\u001b[0;32m   4544\u001b[0m         new_axis \u001b[38;5;241m=\u001b[39m axis\u001b[38;5;241m.\u001b[39mdrop(labels, level\u001b[38;5;241m=\u001b[39mlevel, errors\u001b[38;5;241m=\u001b[39merrors)\n\u001b[0;32m   4545\u001b[0m     \u001b[38;5;28;01melse\u001b[39;00m:\n\u001b[1;32m-> 4546\u001b[0m         new_axis \u001b[38;5;241m=\u001b[39m axis\u001b[38;5;241m.\u001b[39mdrop(labels, errors\u001b[38;5;241m=\u001b[39merrors)\n\u001b[0;32m   4547\u001b[0m     indexer \u001b[38;5;241m=\u001b[39m axis\u001b[38;5;241m.\u001b[39mget_indexer(new_axis)\n\u001b[0;32m   4549\u001b[0m \u001b[38;5;66;03m# Case for non-unique axis\u001b[39;00m\n\u001b[0;32m   4550\u001b[0m \u001b[38;5;28;01melse\u001b[39;00m:\n",
      "File \u001b[1;32m~\\anaconda3\\Lib\\site-packages\\pandas\\core\\indexes\\base.py:6934\u001b[0m, in \u001b[0;36mIndex.drop\u001b[1;34m(self, labels, errors)\u001b[0m\n\u001b[0;32m   6932\u001b[0m \u001b[38;5;28;01mif\u001b[39;00m mask\u001b[38;5;241m.\u001b[39many():\n\u001b[0;32m   6933\u001b[0m     \u001b[38;5;28;01mif\u001b[39;00m errors \u001b[38;5;241m!=\u001b[39m \u001b[38;5;124m\"\u001b[39m\u001b[38;5;124mignore\u001b[39m\u001b[38;5;124m\"\u001b[39m:\n\u001b[1;32m-> 6934\u001b[0m         \u001b[38;5;28;01mraise\u001b[39;00m \u001b[38;5;167;01mKeyError\u001b[39;00m(\u001b[38;5;124mf\u001b[39m\u001b[38;5;124m\"\u001b[39m\u001b[38;5;132;01m{\u001b[39;00m\u001b[38;5;28mlist\u001b[39m(labels[mask])\u001b[38;5;132;01m}\u001b[39;00m\u001b[38;5;124m not found in axis\u001b[39m\u001b[38;5;124m\"\u001b[39m)\n\u001b[0;32m   6935\u001b[0m     indexer \u001b[38;5;241m=\u001b[39m indexer[\u001b[38;5;241m~\u001b[39mmask]\n\u001b[0;32m   6936\u001b[0m \u001b[38;5;28;01mreturn\u001b[39;00m \u001b[38;5;28mself\u001b[39m\u001b[38;5;241m.\u001b[39mdelete(indexer)\n",
      "\u001b[1;31mKeyError\u001b[0m: \"['year'] not found in axis\""
     ]
    }
   ],
   "source": [
    "data = data.drop([\"year\"], axis =1)"
   ]
  },
  {
   "cell_type": "code",
   "execution_count": null,
   "id": "ad062a90",
   "metadata": {},
   "outputs": [],
   "source": [
    "data.head()"
   ]
  },
  {
   "cell_type": "code",
   "execution_count": null,
   "id": "0ab0e403",
   "metadata": {},
   "outputs": [],
   "source": [
    "cols = ['rooms', 'area1', 'area3', 'district', 'floor', 'total_floors',\n",
    "       'building_type', 'price',\"year_type\"]"
   ]
  },
  {
   "cell_type": "code",
   "execution_count": null,
   "id": "28df0643",
   "metadata": {},
   "outputs": [],
   "source": [
    "data=data[cols].copy()"
   ]
  },
  {
   "cell_type": "code",
   "execution_count": 32,
   "id": "6419b65a",
   "metadata": {},
   "outputs": [
    {
     "data": {
      "text/plain": [
       "2.0    114\n",
       "1.0    114\n",
       "3.0     70\n",
       "0.8     14\n",
       "4.0      9\n",
       "Name: rooms, dtype: int64"
      ]
     },
     "execution_count": 32,
     "metadata": {},
     "output_type": "execute_result"
    }
   ],
   "source": [
    "data.rooms.value_counts()"
   ]
  },
  {
   "cell_type": "code",
   "execution_count": 33,
   "id": "724ae356",
   "metadata": {},
   "outputs": [
    {
     "name": "stdout",
     "output_type": "stream",
     "text": [
      "<class 'pandas.core.frame.DataFrame'>\n",
      "RangeIndex: 321 entries, 0 to 320\n",
      "Data columns (total 9 columns):\n",
      " #   Column         Non-Null Count  Dtype  \n",
      "---  ------         --------------  -----  \n",
      " 0   rooms          321 non-null    float64\n",
      " 1   area1          321 non-null    float64\n",
      " 2   area3          321 non-null    float64\n",
      " 3   district       321 non-null    object \n",
      " 4   floor          321 non-null    int64  \n",
      " 5   total_floors   321 non-null    int64  \n",
      " 6   building_type  321 non-null    object \n",
      " 7   price          321 non-null    int64  \n",
      " 8   year_type      321 non-null    object \n",
      "dtypes: float64(3), int64(3), object(3)\n",
      "memory usage: 22.7+ KB\n"
     ]
    }
   ],
   "source": [
    "data.info()"
   ]
  },
  {
   "cell_type": "code",
   "execution_count": 34,
   "id": "135c0867",
   "metadata": {},
   "outputs": [],
   "source": [
    "#data['rooms_count'] = data.rooms.astype('float')"
   ]
  },
  {
   "cell_type": "code",
   "execution_count": 35,
   "id": "d6fa96af",
   "metadata": {},
   "outputs": [],
   "source": [
    "#data.head()"
   ]
  },
  {
   "cell_type": "code",
   "execution_count": 36,
   "id": "c26d73a7",
   "metadata": {},
   "outputs": [
    {
     "data": {
      "text/plain": [
       "0      False\n",
       "1      False\n",
       "2       True\n",
       "3       True\n",
       "4       True\n",
       "       ...  \n",
       "316    False\n",
       "317     True\n",
       "318     True\n",
       "319    False\n",
       "320     True\n",
       "Length: 321, dtype: bool"
      ]
     },
     "execution_count": 36,
     "metadata": {},
     "output_type": "execute_result"
    }
   ],
   "source": [
    "(data.floor != 1)&(data.floor != data.total_floors)"
   ]
  },
  {
   "cell_type": "code",
   "execution_count": 37,
   "id": "1bb2b199",
   "metadata": {},
   "outputs": [],
   "source": [
    "data['no_first_no_last'] = (data.floor != 1)&(data.floor != data.total_floors)"
   ]
  },
  {
   "cell_type": "code",
   "execution_count": 38,
   "id": "2a755def",
   "metadata": {},
   "outputs": [
    {
     "data": {
      "text/html": [
       "<div>\n",
       "<style scoped>\n",
       "    .dataframe tbody tr th:only-of-type {\n",
       "        vertical-align: middle;\n",
       "    }\n",
       "\n",
       "    .dataframe tbody tr th {\n",
       "        vertical-align: top;\n",
       "    }\n",
       "\n",
       "    .dataframe thead th {\n",
       "        text-align: right;\n",
       "    }\n",
       "</style>\n",
       "<table border=\"1\" class=\"dataframe\">\n",
       "  <thead>\n",
       "    <tr style=\"text-align: right;\">\n",
       "      <th></th>\n",
       "      <th>rooms</th>\n",
       "      <th>area1</th>\n",
       "      <th>area3</th>\n",
       "      <th>district</th>\n",
       "      <th>floor</th>\n",
       "      <th>total_floors</th>\n",
       "      <th>building_type</th>\n",
       "      <th>price</th>\n",
       "      <th>year_type</th>\n",
       "      <th>no_first_no_last</th>\n",
       "    </tr>\n",
       "  </thead>\n",
       "  <tbody>\n",
       "    <tr>\n",
       "      <th>0</th>\n",
       "      <td>2.0</td>\n",
       "      <td>44.0</td>\n",
       "      <td>6.0</td>\n",
       "      <td>Автозаводский район</td>\n",
       "      <td>4</td>\n",
       "      <td>4</td>\n",
       "      <td>кирпич</td>\n",
       "      <td>4900000</td>\n",
       "      <td>новый_дом</td>\n",
       "      <td>False</td>\n",
       "    </tr>\n",
       "    <tr>\n",
       "      <th>1</th>\n",
       "      <td>2.0</td>\n",
       "      <td>32.0</td>\n",
       "      <td>6.8</td>\n",
       "      <td>Советский район</td>\n",
       "      <td>1</td>\n",
       "      <td>3</td>\n",
       "      <td>кирпич</td>\n",
       "      <td>4000000</td>\n",
       "      <td>новый_дом</td>\n",
       "      <td>False</td>\n",
       "    </tr>\n",
       "    <tr>\n",
       "      <th>2</th>\n",
       "      <td>2.0</td>\n",
       "      <td>45.0</td>\n",
       "      <td>6.0</td>\n",
       "      <td>Канавинский район</td>\n",
       "      <td>2</td>\n",
       "      <td>5</td>\n",
       "      <td>кирпич</td>\n",
       "      <td>4300000</td>\n",
       "      <td>новый_дом</td>\n",
       "      <td>True</td>\n",
       "    </tr>\n",
       "    <tr>\n",
       "      <th>3</th>\n",
       "      <td>1.0</td>\n",
       "      <td>30.8</td>\n",
       "      <td>5.8</td>\n",
       "      <td>Канавинский район</td>\n",
       "      <td>2</td>\n",
       "      <td>5</td>\n",
       "      <td>кирпич</td>\n",
       "      <td>4200000</td>\n",
       "      <td>новый_дом</td>\n",
       "      <td>True</td>\n",
       "    </tr>\n",
       "    <tr>\n",
       "      <th>4</th>\n",
       "      <td>2.0</td>\n",
       "      <td>48.0</td>\n",
       "      <td>9.0</td>\n",
       "      <td>Московский район</td>\n",
       "      <td>5</td>\n",
       "      <td>10</td>\n",
       "      <td>панель</td>\n",
       "      <td>7150000</td>\n",
       "      <td>новый_дом</td>\n",
       "      <td>True</td>\n",
       "    </tr>\n",
       "  </tbody>\n",
       "</table>\n",
       "</div>"
      ],
      "text/plain": [
       "   rooms  area1  area3             district  floor  total_floors  \\\n",
       "0    2.0   44.0    6.0  Автозаводский район      4             4   \n",
       "1    2.0   32.0    6.8      Советский район      1             3   \n",
       "2    2.0   45.0    6.0    Канавинский район      2             5   \n",
       "3    1.0   30.8    5.8    Канавинский район      2             5   \n",
       "4    2.0   48.0    9.0     Московский район      5            10   \n",
       "\n",
       "  building_type    price  year_type  no_first_no_last  \n",
       "0        кирпич  4900000  новый_дом             False  \n",
       "1        кирпич  4000000  новый_дом             False  \n",
       "2        кирпич  4300000  новый_дом              True  \n",
       "3        кирпич  4200000  новый_дом              True  \n",
       "4        панель  7150000  новый_дом              True  "
      ]
     },
     "execution_count": 38,
     "metadata": {},
     "output_type": "execute_result"
    }
   ],
   "source": [
    "data.head()"
   ]
  },
  {
   "cell_type": "code",
   "execution_count": 39,
   "id": "ffa6542c",
   "metadata": {},
   "outputs": [
    {
     "data": {
      "text/plain": [
       "<Axes: >"
      ]
     },
     "execution_count": 39,
     "metadata": {},
     "output_type": "execute_result"
    },
    {
     "data": {
      "image/png": "[encoded data removed]",
      "text/plain": [
       "<Figure size 640x480 with 1 Axes>"
      ]
     },
     "metadata": {},
     "output_type": "display_data"
    }
   ],
   "source": [
    "data.area3.hist(bins=20)"
   ]
  },
  {
   "cell_type": "code",
   "execution_count": 40,
   "id": "e1cc1602",
   "metadata": {},
   "outputs": [
    {
     "data": {
      "text/plain": [
       "array([[1.],\n",
       "       [1.],\n",
       "       [1.],\n",
       "       [0.],\n",
       "       [1.]])"
      ]
     },
     "execution_count": 40,
     "metadata": {},
     "output_type": "execute_result"
    }
   ],
   "source": [
    "from sklearn.preprocessing import KBinsDiscretizer\n",
    "\n",
    "est = KBinsDiscretizer(\n",
    "    n_bins=5, encode='ordinal', strategy='uniform', subsample=None\n",
    ")\n",
    "est.fit(data.area3.values.reshape(-1, 1))\n",
    "Xt = est.transform(data.area3.values.reshape(-1, 1))\n",
    "Xt[:5]"
   ]
  },
  {
   "cell_type": "code",
   "execution_count": 41,
   "id": "99758bb1",
   "metadata": {},
   "outputs": [
    {
     "data": {
      "text/html": [
       "<div>\n",
       "<style scoped>\n",
       "    .dataframe tbody tr th:only-of-type {\n",
       "        vertical-align: middle;\n",
       "    }\n",
       "\n",
       "    .dataframe tbody tr th {\n",
       "        vertical-align: top;\n",
       "    }\n",
       "\n",
       "    .dataframe thead th {\n",
       "        text-align: right;\n",
       "    }\n",
       "</style>\n",
       "<table border=\"1\" class=\"dataframe\">\n",
       "  <thead>\n",
       "    <tr style=\"text-align: right;\">\n",
       "      <th></th>\n",
       "      <th>rooms</th>\n",
       "      <th>area1</th>\n",
       "      <th>area3</th>\n",
       "      <th>district</th>\n",
       "      <th>floor</th>\n",
       "      <th>total_floors</th>\n",
       "      <th>building_type</th>\n",
       "      <th>price</th>\n",
       "      <th>year_type</th>\n",
       "      <th>no_first_no_last</th>\n",
       "      <th>area3_bins</th>\n",
       "    </tr>\n",
       "  </thead>\n",
       "  <tbody>\n",
       "    <tr>\n",
       "      <th>0</th>\n",
       "      <td>2.0</td>\n",
       "      <td>44.0</td>\n",
       "      <td>6.0</td>\n",
       "      <td>Автозаводский район</td>\n",
       "      <td>4</td>\n",
       "      <td>4</td>\n",
       "      <td>кирпич</td>\n",
       "      <td>4900000</td>\n",
       "      <td>новый_дом</td>\n",
       "      <td>False</td>\n",
       "      <td>1.0</td>\n",
       "    </tr>\n",
       "    <tr>\n",
       "      <th>1</th>\n",
       "      <td>2.0</td>\n",
       "      <td>32.0</td>\n",
       "      <td>6.8</td>\n",
       "      <td>Советский район</td>\n",
       "      <td>1</td>\n",
       "      <td>3</td>\n",
       "      <td>кирпич</td>\n",
       "      <td>4000000</td>\n",
       "      <td>новый_дом</td>\n",
       "      <td>False</td>\n",
       "      <td>1.0</td>\n",
       "    </tr>\n",
       "    <tr>\n",
       "      <th>2</th>\n",
       "      <td>2.0</td>\n",
       "      <td>45.0</td>\n",
       "      <td>6.0</td>\n",
       "      <td>Канавинский район</td>\n",
       "      <td>2</td>\n",
       "      <td>5</td>\n",
       "      <td>кирпич</td>\n",
       "      <td>4300000</td>\n",
       "      <td>новый_дом</td>\n",
       "      <td>True</td>\n",
       "      <td>1.0</td>\n",
       "    </tr>\n",
       "    <tr>\n",
       "      <th>3</th>\n",
       "      <td>1.0</td>\n",
       "      <td>30.8</td>\n",
       "      <td>5.8</td>\n",
       "      <td>Канавинский район</td>\n",
       "      <td>2</td>\n",
       "      <td>5</td>\n",
       "      <td>кирпич</td>\n",
       "      <td>4200000</td>\n",
       "      <td>новый_дом</td>\n",
       "      <td>True</td>\n",
       "      <td>0.0</td>\n",
       "    </tr>\n",
       "    <tr>\n",
       "      <th>4</th>\n",
       "      <td>2.0</td>\n",
       "      <td>48.0</td>\n",
       "      <td>9.0</td>\n",
       "      <td>Московский район</td>\n",
       "      <td>5</td>\n",
       "      <td>10</td>\n",
       "      <td>панель</td>\n",
       "      <td>7150000</td>\n",
       "      <td>новый_дом</td>\n",
       "      <td>True</td>\n",
       "      <td>1.0</td>\n",
       "    </tr>\n",
       "  </tbody>\n",
       "</table>\n",
       "</div>"
      ],
      "text/plain": [
       "   rooms  area1  area3             district  floor  total_floors  \\\n",
       "0    2.0   44.0    6.0  Автозаводский район      4             4   \n",
       "1    2.0   32.0    6.8      Советский район      1             3   \n",
       "2    2.0   45.0    6.0    Канавинский район      2             5   \n",
       "3    1.0   30.8    5.8    Канавинский район      2             5   \n",
       "4    2.0   48.0    9.0     Московский район      5            10   \n",
       "\n",
       "  building_type    price  year_type  no_first_no_last  area3_bins  \n",
       "0        кирпич  4900000  новый_дом             False         1.0  \n",
       "1        кирпич  4000000  новый_дом             False         1.0  \n",
       "2        кирпич  4300000  новый_дом              True         1.0  \n",
       "3        кирпич  4200000  новый_дом              True         0.0  \n",
       "4        панель  7150000  новый_дом              True         1.0  "
      ]
     },
     "execution_count": 41,
     "metadata": {},
     "output_type": "execute_result"
    }
   ],
   "source": [
    "data['area3_bins'] = est.transform(data.area3.values.reshape(-1, 1))\n",
    "data.head()"
   ]
  },
  {
   "cell_type": "code",
   "execution_count": 42,
   "id": "fa4c3e43",
   "metadata": {},
   "outputs": [
    {
     "data": {
      "text/plain": [
       "<Axes: >"
      ]
     },
     "execution_count": 42,
     "metadata": {},
     "output_type": "execute_result"
    },
    {
     "data": {
      "image/png": "[encoded data removed]",
      "text/plain": [
       "<Figure size 640x480 with 1 Axes>"
      ]
     },
     "metadata": {},
     "output_type": "display_data"
    }
   ],
   "source": [
    "data.area3_bins.hist()"
   ]
  },
  {
   "cell_type": "code",
   "execution_count": 43,
   "id": "eacf0dea",
   "metadata": {},
   "outputs": [
    {
     "data": {
      "text/html": [
       "<div>\n",
       "<style scoped>\n",
       "    .dataframe tbody tr th:only-of-type {\n",
       "        vertical-align: middle;\n",
       "    }\n",
       "\n",
       "    .dataframe tbody tr th {\n",
       "        vertical-align: top;\n",
       "    }\n",
       "\n",
       "    .dataframe thead th {\n",
       "        text-align: right;\n",
       "    }\n",
       "</style>\n",
       "<table border=\"1\" class=\"dataframe\">\n",
       "  <thead>\n",
       "    <tr style=\"text-align: right;\">\n",
       "      <th></th>\n",
       "      <th>rooms</th>\n",
       "      <th>area1</th>\n",
       "      <th>district</th>\n",
       "      <th>building_type</th>\n",
       "      <th>price</th>\n",
       "      <th>year_type</th>\n",
       "      <th>no_first_no_last</th>\n",
       "      <th>area3_bins</th>\n",
       "    </tr>\n",
       "  </thead>\n",
       "  <tbody>\n",
       "    <tr>\n",
       "      <th>0</th>\n",
       "      <td>2.0</td>\n",
       "      <td>44.0</td>\n",
       "      <td>Автозаводский район</td>\n",
       "      <td>кирпич</td>\n",
       "      <td>4900000</td>\n",
       "      <td>новый_дом</td>\n",
       "      <td>False</td>\n",
       "      <td>1.0</td>\n",
       "    </tr>\n",
       "    <tr>\n",
       "      <th>1</th>\n",
       "      <td>2.0</td>\n",
       "      <td>32.0</td>\n",
       "      <td>Советский район</td>\n",
       "      <td>кирпич</td>\n",
       "      <td>4000000</td>\n",
       "      <td>новый_дом</td>\n",
       "      <td>False</td>\n",
       "      <td>1.0</td>\n",
       "    </tr>\n",
       "    <tr>\n",
       "      <th>2</th>\n",
       "      <td>2.0</td>\n",
       "      <td>45.0</td>\n",
       "      <td>Канавинский район</td>\n",
       "      <td>кирпич</td>\n",
       "      <td>4300000</td>\n",
       "      <td>новый_дом</td>\n",
       "      <td>True</td>\n",
       "      <td>1.0</td>\n",
       "    </tr>\n",
       "    <tr>\n",
       "      <th>3</th>\n",
       "      <td>1.0</td>\n",
       "      <td>30.8</td>\n",
       "      <td>Канавинский район</td>\n",
       "      <td>кирпич</td>\n",
       "      <td>4200000</td>\n",
       "      <td>новый_дом</td>\n",
       "      <td>True</td>\n",
       "      <td>0.0</td>\n",
       "    </tr>\n",
       "    <tr>\n",
       "      <th>4</th>\n",
       "      <td>2.0</td>\n",
       "      <td>48.0</td>\n",
       "      <td>Московский район</td>\n",
       "      <td>панель</td>\n",
       "      <td>7150000</td>\n",
       "      <td>новый_дом</td>\n",
       "      <td>True</td>\n",
       "      <td>1.0</td>\n",
       "    </tr>\n",
       "    <tr>\n",
       "      <th>...</th>\n",
       "      <td>...</td>\n",
       "      <td>...</td>\n",
       "      <td>...</td>\n",
       "      <td>...</td>\n",
       "      <td>...</td>\n",
       "      <td>...</td>\n",
       "      <td>...</td>\n",
       "      <td>...</td>\n",
       "    </tr>\n",
       "    <tr>\n",
       "      <th>316</th>\n",
       "      <td>1.0</td>\n",
       "      <td>29.9</td>\n",
       "      <td>Автозаводский район</td>\n",
       "      <td>шлакоблок</td>\n",
       "      <td>2999000</td>\n",
       "      <td>новый_дом</td>\n",
       "      <td>False</td>\n",
       "      <td>1.0</td>\n",
       "    </tr>\n",
       "    <tr>\n",
       "      <th>317</th>\n",
       "      <td>1.0</td>\n",
       "      <td>44.5</td>\n",
       "      <td>Нижегородский район</td>\n",
       "      <td>блок+утеплитель</td>\n",
       "      <td>7450000</td>\n",
       "      <td>новый_дом</td>\n",
       "      <td>True</td>\n",
       "      <td>1.0</td>\n",
       "    </tr>\n",
       "    <tr>\n",
       "      <th>318</th>\n",
       "      <td>1.0</td>\n",
       "      <td>31.5</td>\n",
       "      <td>Ленинский район</td>\n",
       "      <td>кирпич</td>\n",
       "      <td>4500000</td>\n",
       "      <td>новый_дом</td>\n",
       "      <td>True</td>\n",
       "      <td>0.0</td>\n",
       "    </tr>\n",
       "    <tr>\n",
       "      <th>319</th>\n",
       "      <td>1.0</td>\n",
       "      <td>30.9</td>\n",
       "      <td>Московский район</td>\n",
       "      <td>панель</td>\n",
       "      <td>3620000</td>\n",
       "      <td>новый_дом</td>\n",
       "      <td>False</td>\n",
       "      <td>0.0</td>\n",
       "    </tr>\n",
       "    <tr>\n",
       "      <th>320</th>\n",
       "      <td>2.0</td>\n",
       "      <td>54.4</td>\n",
       "      <td>Нижегородский район</td>\n",
       "      <td>панель</td>\n",
       "      <td>9540000</td>\n",
       "      <td>старый_дом</td>\n",
       "      <td>True</td>\n",
       "      <td>1.0</td>\n",
       "    </tr>\n",
       "  </tbody>\n",
       "</table>\n",
       "<p>321 rows × 8 columns</p>\n",
       "</div>"
      ],
      "text/plain": [
       "     rooms  area1             district    building_type    price   year_type  \\\n",
       "0      2.0   44.0  Автозаводский район           кирпич  4900000   новый_дом   \n",
       "1      2.0   32.0      Советский район           кирпич  4000000   новый_дом   \n",
       "2      2.0   45.0    Канавинский район           кирпич  4300000   новый_дом   \n",
       "3      1.0   30.8    Канавинский район           кирпич  4200000   новый_дом   \n",
       "4      2.0   48.0     Московский район           панель  7150000   новый_дом   \n",
       "..     ...    ...                  ...              ...      ...         ...   \n",
       "316    1.0   29.9  Автозаводский район        шлакоблок  2999000   новый_дом   \n",
       "317    1.0   44.5  Нижегородский район  блок+утеплитель  7450000   новый_дом   \n",
       "318    1.0   31.5      Ленинский район           кирпич  4500000   новый_дом   \n",
       "319    1.0   30.9     Московский район           панель  3620000   новый_дом   \n",
       "320    2.0   54.4  Нижегородский район           панель  9540000  старый_дом   \n",
       "\n",
       "     no_first_no_last  area3_bins  \n",
       "0               False         1.0  \n",
       "1               False         1.0  \n",
       "2                True         1.0  \n",
       "3                True         0.0  \n",
       "4                True         1.0  \n",
       "..                ...         ...  \n",
       "316             False         1.0  \n",
       "317              True         1.0  \n",
       "318              True         0.0  \n",
       "319             False         0.0  \n",
       "320              True         1.0  \n",
       "\n",
       "[321 rows x 8 columns]"
      ]
     },
     "execution_count": 43,
     "metadata": {},
     "output_type": "execute_result"
    }
   ],
   "source": [
    "data = data.drop(['area3','floor','total_floors'], axis=1)\n",
    "data"
   ]
  },
  {
   "cell_type": "code",
   "execution_count": 44,
   "id": "1b82f95c",
   "metadata": {},
   "outputs": [
    {
     "data": {
      "text/html": [
       "<div>\n",
       "<style scoped>\n",
       "    .dataframe tbody tr th:only-of-type {\n",
       "        vertical-align: middle;\n",
       "    }\n",
       "\n",
       "    .dataframe tbody tr th {\n",
       "        vertical-align: top;\n",
       "    }\n",
       "\n",
       "    .dataframe thead th {\n",
       "        text-align: right;\n",
       "    }\n",
       "</style>\n",
       "<table border=\"1\" class=\"dataframe\">\n",
       "  <thead>\n",
       "    <tr style=\"text-align: right;\">\n",
       "      <th></th>\n",
       "      <th>rooms</th>\n",
       "      <th>area1</th>\n",
       "      <th>district</th>\n",
       "      <th>building_type</th>\n",
       "      <th>price</th>\n",
       "      <th>year_type</th>\n",
       "      <th>no_first_no_last</th>\n",
       "      <th>area3_bins</th>\n",
       "    </tr>\n",
       "  </thead>\n",
       "  <tbody>\n",
       "    <tr>\n",
       "      <th>0</th>\n",
       "      <td>2.0</td>\n",
       "      <td>44.0</td>\n",
       "      <td>Автозаводский район</td>\n",
       "      <td>кирпич</td>\n",
       "      <td>4900000</td>\n",
       "      <td>новый_дом</td>\n",
       "      <td>False</td>\n",
       "      <td>1.0</td>\n",
       "    </tr>\n",
       "    <tr>\n",
       "      <th>1</th>\n",
       "      <td>2.0</td>\n",
       "      <td>32.0</td>\n",
       "      <td>Советский район</td>\n",
       "      <td>кирпич</td>\n",
       "      <td>4000000</td>\n",
       "      <td>новый_дом</td>\n",
       "      <td>False</td>\n",
       "      <td>1.0</td>\n",
       "    </tr>\n",
       "    <tr>\n",
       "      <th>2</th>\n",
       "      <td>2.0</td>\n",
       "      <td>45.0</td>\n",
       "      <td>Канавинский район</td>\n",
       "      <td>кирпич</td>\n",
       "      <td>4300000</td>\n",
       "      <td>новый_дом</td>\n",
       "      <td>True</td>\n",
       "      <td>1.0</td>\n",
       "    </tr>\n",
       "    <tr>\n",
       "      <th>3</th>\n",
       "      <td>1.0</td>\n",
       "      <td>30.8</td>\n",
       "      <td>Канавинский район</td>\n",
       "      <td>кирпич</td>\n",
       "      <td>4200000</td>\n",
       "      <td>новый_дом</td>\n",
       "      <td>True</td>\n",
       "      <td>0.0</td>\n",
       "    </tr>\n",
       "    <tr>\n",
       "      <th>4</th>\n",
       "      <td>2.0</td>\n",
       "      <td>48.0</td>\n",
       "      <td>Московский район</td>\n",
       "      <td>панель</td>\n",
       "      <td>7150000</td>\n",
       "      <td>новый_дом</td>\n",
       "      <td>True</td>\n",
       "      <td>1.0</td>\n",
       "    </tr>\n",
       "    <tr>\n",
       "      <th>...</th>\n",
       "      <td>...</td>\n",
       "      <td>...</td>\n",
       "      <td>...</td>\n",
       "      <td>...</td>\n",
       "      <td>...</td>\n",
       "      <td>...</td>\n",
       "      <td>...</td>\n",
       "      <td>...</td>\n",
       "    </tr>\n",
       "    <tr>\n",
       "      <th>316</th>\n",
       "      <td>1.0</td>\n",
       "      <td>29.9</td>\n",
       "      <td>Автозаводский район</td>\n",
       "      <td>шлакоблок</td>\n",
       "      <td>2999000</td>\n",
       "      <td>новый_дом</td>\n",
       "      <td>False</td>\n",
       "      <td>1.0</td>\n",
       "    </tr>\n",
       "    <tr>\n",
       "      <th>317</th>\n",
       "      <td>1.0</td>\n",
       "      <td>44.5</td>\n",
       "      <td>Нижегородский район</td>\n",
       "      <td>блок+утеплитель</td>\n",
       "      <td>7450000</td>\n",
       "      <td>новый_дом</td>\n",
       "      <td>True</td>\n",
       "      <td>1.0</td>\n",
       "    </tr>\n",
       "    <tr>\n",
       "      <th>318</th>\n",
       "      <td>1.0</td>\n",
       "      <td>31.5</td>\n",
       "      <td>Ленинский район</td>\n",
       "      <td>кирпич</td>\n",
       "      <td>4500000</td>\n",
       "      <td>новый_дом</td>\n",
       "      <td>True</td>\n",
       "      <td>0.0</td>\n",
       "    </tr>\n",
       "    <tr>\n",
       "      <th>319</th>\n",
       "      <td>1.0</td>\n",
       "      <td>30.9</td>\n",
       "      <td>Московский район</td>\n",
       "      <td>панель</td>\n",
       "      <td>3620000</td>\n",
       "      <td>новый_дом</td>\n",
       "      <td>False</td>\n",
       "      <td>0.0</td>\n",
       "    </tr>\n",
       "    <tr>\n",
       "      <th>320</th>\n",
       "      <td>2.0</td>\n",
       "      <td>54.4</td>\n",
       "      <td>Нижегородский район</td>\n",
       "      <td>панель</td>\n",
       "      <td>9540000</td>\n",
       "      <td>старый_дом</td>\n",
       "      <td>True</td>\n",
       "      <td>1.0</td>\n",
       "    </tr>\n",
       "  </tbody>\n",
       "</table>\n",
       "<p>321 rows × 8 columns</p>\n",
       "</div>"
      ],
      "text/plain": [
       "     rooms  area1             district    building_type    price   year_type  \\\n",
       "0      2.0   44.0  Автозаводский район           кирпич  4900000   новый_дом   \n",
       "1      2.0   32.0      Советский район           кирпич  4000000   новый_дом   \n",
       "2      2.0   45.0    Канавинский район           кирпич  4300000   новый_дом   \n",
       "3      1.0   30.8    Канавинский район           кирпич  4200000   новый_дом   \n",
       "4      2.0   48.0     Московский район           панель  7150000   новый_дом   \n",
       "..     ...    ...                  ...              ...      ...         ...   \n",
       "316    1.0   29.9  Автозаводский район        шлакоблок  2999000   новый_дом   \n",
       "317    1.0   44.5  Нижегородский район  блок+утеплитель  7450000   новый_дом   \n",
       "318    1.0   31.5      Ленинский район           кирпич  4500000   новый_дом   \n",
       "319    1.0   30.9     Московский район           панель  3620000   новый_дом   \n",
       "320    2.0   54.4  Нижегородский район           панель  9540000  старый_дом   \n",
       "\n",
       "     no_first_no_last  area3_bins  \n",
       "0               False         1.0  \n",
       "1               False         1.0  \n",
       "2                True         1.0  \n",
       "3                True         0.0  \n",
       "4                True         1.0  \n",
       "..                ...         ...  \n",
       "316             False         1.0  \n",
       "317              True         1.0  \n",
       "318              True         0.0  \n",
       "319             False         0.0  \n",
       "320              True         1.0  \n",
       "\n",
       "[321 rows x 8 columns]"
      ]
     },
     "execution_count": 44,
     "metadata": {},
     "output_type": "execute_result"
    }
   ],
   "source": [
    "data"
   ]
  },
  {
   "cell_type": "code",
   "execution_count": 45,
   "id": "a2e96680",
   "metadata": {},
   "outputs": [],
   "source": [
    "#data.district.unique()"
   ]
  },
  {
   "cell_type": "code",
   "execution_count": 46,
   "id": "f2a6b926",
   "metadata": {},
   "outputs": [],
   "source": [
    "#dist = [x for x in data.district.unique() if 'район' in x]\n",
    "#dist"
   ]
  },
  {
   "cell_type": "code",
   "execution_count": 47,
   "id": "94d13f8e",
   "metadata": {},
   "outputs": [],
   "source": [
    "#data.loc[~data.district.isin(dist), 'district'] = 'Другой'\n",
    "#data.head(15)"
   ]
  },
  {
   "cell_type": "code",
   "execution_count": 48,
   "id": "2fcf2aa9",
   "metadata": {},
   "outputs": [],
   "source": [
    "data.to_csv('data/processed/nnapartment_more_info_new_features2.csv', index = False)"
   ]
  },
  {
   "cell_type": "markdown",
   "id": "8fcbbeff",
   "metadata": {},
   "source": [
    "**Задание**  \n",
    "\n",
    "Использовать полученный набор данных для обучения pipeline состоящего из этапов, трансформации данных, конструиррвания признаков, выбора признаков (понижения размерности)."
   ]
  },
  {
   "cell_type": "markdown",
   "id": "6ea9458c",
   "metadata": {},
   "source": [
    "завести аккаунт на github повторить тему окружения (inviroment) (venv)"
   ]
  },
  {
   "cell_type": "code",
   "execution_count": null,
   "id": "32fc78fc",
   "metadata": {},
   "outputs": [],
   "source": []
  }
 ],
 "metadata": {
  "kernelspec": {
   "display_name": "Python 3 (ipykernel)",
   "language": "python",
   "name": "python3"
  },
  "language_info": {
   "codemirror_mode": {
    "name": "ipython",
    "version": 3
   },
   "file_extension": ".py",
   "mimetype": "text/x-python",
   "name": "python",
   "nbconvert_exporter": "python",
   "pygments_lexer": "ipython3",
   "version": "3.11.4"
  }
 },
 "nbformat": 4,
 "nbformat_minor": 5
}
