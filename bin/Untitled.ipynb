{
 "cells": [
  {
   "cell_type": "code",
   "execution_count": 37,
   "id": "cee854ad",
   "metadata": {},
   "outputs": [],
   "source": [
    "#import streamlit as st\n",
    "import numpy as np\n",
    "import pandas as pd\n",
    "import pickle\n",
    "import matplotlib.pyplot as plt\n",
    "\n",
    "area1 = 50\n",
    "area3_bins = 3\n",
    "rooms = 2\n",
    "year = 1980\n",
    "no_first_no_last = 0\n",
    "building_type = \"кирпич\"\n",
    "district = \"Советский район\"\n",
    "data_fill_in = {'rooms': [rooms], 'area1': [area1], 'district': [district], 'building_type': [building_type], 'year': [year], 'no_first_no_last':[no_first_no_last], 'area3_bins':[area3_bins]}\n",
    "df_in = pd.DataFrame(data_fill_in)\n"
   ]
  },
  {
   "cell_type": "code",
   "execution_count": 38,
   "id": "747339ee",
   "metadata": {},
   "outputs": [
    {
     "data": {
      "text/html": [
       "<div>\n",
       "<style scoped>\n",
       "    .dataframe tbody tr th:only-of-type {\n",
       "        vertical-align: middle;\n",
       "    }\n",
       "\n",
       "    .dataframe tbody tr th {\n",
       "        vertical-align: top;\n",
       "    }\n",
       "\n",
       "    .dataframe thead th {\n",
       "        text-align: right;\n",
       "    }\n",
       "</style>\n",
       "<table border=\"1\" class=\"dataframe\">\n",
       "  <thead>\n",
       "    <tr style=\"text-align: right;\">\n",
       "      <th></th>\n",
       "      <th>rooms</th>\n",
       "      <th>area1</th>\n",
       "      <th>district</th>\n",
       "      <th>building_type</th>\n",
       "      <th>year</th>\n",
       "      <th>no_first_no_last</th>\n",
       "      <th>area3_bins</th>\n",
       "    </tr>\n",
       "  </thead>\n",
       "  <tbody>\n",
       "    <tr>\n",
       "      <th>0</th>\n",
       "      <td>2</td>\n",
       "      <td>50</td>\n",
       "      <td>Советский район</td>\n",
       "      <td>кирпич</td>\n",
       "      <td>1980</td>\n",
       "      <td>0</td>\n",
       "      <td>3</td>\n",
       "    </tr>\n",
       "  </tbody>\n",
       "</table>\n",
       "</div>"
      ],
      "text/plain": [
       "   rooms  area1         district building_type  year  no_first_no_last  \\\n",
       "0      2     50  Советский район        кирпич  1980                 0   \n",
       "\n",
       "   area3_bins  \n",
       "0           3  "
      ]
     },
     "execution_count": 38,
     "metadata": {},
     "output_type": "execute_result"
    }
   ],
   "source": [
    "df_in"
   ]
  },
  {
   "cell_type": "code",
   "execution_count": 39,
   "id": "926783e7",
   "metadata": {},
   "outputs": [
    {
     "name": "stdout",
     "output_type": "stream",
     "text": [
      "<class 'pandas.core.frame.DataFrame'>\n",
      "RangeIndex: 1 entries, 0 to 0\n",
      "Data columns (total 7 columns):\n",
      " #   Column            Non-Null Count  Dtype \n",
      "---  ------            --------------  ----- \n",
      " 0   rooms             1 non-null      int64 \n",
      " 1   area1             1 non-null      int64 \n",
      " 2   district          1 non-null      object\n",
      " 3   building_type     1 non-null      object\n",
      " 4   year              1 non-null      int64 \n",
      " 5   no_first_no_last  1 non-null      int64 \n",
      " 6   area3_bins        1 non-null      int64 \n",
      "dtypes: int64(5), object(2)\n",
      "memory usage: 188.0+ bytes\n"
     ]
    }
   ],
   "source": [
    "df_in.info()"
   ]
  },
  {
   "cell_type": "code",
   "execution_count": 40,
   "id": "0a4c643f",
   "metadata": {},
   "outputs": [
    {
     "data": {
      "text/plain": [
       "8304006"
      ]
     },
     "execution_count": 40,
     "metadata": {},
     "output_type": "execute_result"
    }
   ],
   "source": [
    "y_pred = int(model.predict(df_in))\n",
    "y_pred"
   ]
  },
  {
   "cell_type": "code",
   "execution_count": 22,
   "id": "569493f0",
   "metadata": {},
   "outputs": [],
   "source": [
    "model_pkl_file = \"apartment_prices_regression_pca.pkl\"  \n",
    "\n",
    "with open(model_pkl_file, 'rb') as file:  \n",
    "    model = pickle.load(file)"
   ]
  },
  {
   "cell_type": "code",
   "execution_count": 13,
   "id": "7010064a",
   "metadata": {},
   "outputs": [
    {
     "data": {
      "text/html": [
       "<div>\n",
       "<style scoped>\n",
       "    .dataframe tbody tr th:only-of-type {\n",
       "        vertical-align: middle;\n",
       "    }\n",
       "\n",
       "    .dataframe tbody tr th {\n",
       "        vertical-align: top;\n",
       "    }\n",
       "\n",
       "    .dataframe thead th {\n",
       "        text-align: right;\n",
       "    }\n",
       "</style>\n",
       "<table border=\"1\" class=\"dataframe\">\n",
       "  <thead>\n",
       "    <tr style=\"text-align: right;\">\n",
       "      <th></th>\n",
       "      <th>rooms</th>\n",
       "      <th>area1</th>\n",
       "      <th>district</th>\n",
       "      <th>building_type</th>\n",
       "      <th>year</th>\n",
       "      <th>price</th>\n",
       "      <th>no_first_no_last</th>\n",
       "      <th>area3_bins</th>\n",
       "    </tr>\n",
       "  </thead>\n",
       "  <tbody>\n",
       "    <tr>\n",
       "      <th>0</th>\n",
       "      <td>2.0</td>\n",
       "      <td>44.0</td>\n",
       "      <td>Автозаводский район</td>\n",
       "      <td>кирпич</td>\n",
       "      <td>1961.0</td>\n",
       "      <td>4900000</td>\n",
       "      <td>False</td>\n",
       "      <td>1.0</td>\n",
       "    </tr>\n",
       "    <tr>\n",
       "      <th>1</th>\n",
       "      <td>2.0</td>\n",
       "      <td>32.0</td>\n",
       "      <td>Советский район</td>\n",
       "      <td>кирпич</td>\n",
       "      <td>1958.0</td>\n",
       "      <td>4000000</td>\n",
       "      <td>False</td>\n",
       "      <td>1.0</td>\n",
       "    </tr>\n",
       "    <tr>\n",
       "      <th>2</th>\n",
       "      <td>2.0</td>\n",
       "      <td>45.0</td>\n",
       "      <td>Канавинский район</td>\n",
       "      <td>кирпич</td>\n",
       "      <td>1972.0</td>\n",
       "      <td>4300000</td>\n",
       "      <td>True</td>\n",
       "      <td>1.0</td>\n",
       "    </tr>\n",
       "    <tr>\n",
       "      <th>3</th>\n",
       "      <td>1.0</td>\n",
       "      <td>30.8</td>\n",
       "      <td>Канавинский район</td>\n",
       "      <td>кирпич</td>\n",
       "      <td>1965.0</td>\n",
       "      <td>4200000</td>\n",
       "      <td>True</td>\n",
       "      <td>0.0</td>\n",
       "    </tr>\n",
       "    <tr>\n",
       "      <th>4</th>\n",
       "      <td>2.0</td>\n",
       "      <td>48.0</td>\n",
       "      <td>Московский район</td>\n",
       "      <td>панель</td>\n",
       "      <td>2016.0</td>\n",
       "      <td>7150000</td>\n",
       "      <td>True</td>\n",
       "      <td>1.0</td>\n",
       "    </tr>\n",
       "    <tr>\n",
       "      <th>...</th>\n",
       "      <td>...</td>\n",
       "      <td>...</td>\n",
       "      <td>...</td>\n",
       "      <td>...</td>\n",
       "      <td>...</td>\n",
       "      <td>...</td>\n",
       "      <td>...</td>\n",
       "      <td>...</td>\n",
       "    </tr>\n",
       "    <tr>\n",
       "      <th>316</th>\n",
       "      <td>1.0</td>\n",
       "      <td>29.9</td>\n",
       "      <td>Автозаводский район</td>\n",
       "      <td>шлакоблок</td>\n",
       "      <td>1948.0</td>\n",
       "      <td>2999000</td>\n",
       "      <td>False</td>\n",
       "      <td>1.0</td>\n",
       "    </tr>\n",
       "    <tr>\n",
       "      <th>317</th>\n",
       "      <td>1.0</td>\n",
       "      <td>44.5</td>\n",
       "      <td>Нижегородский район</td>\n",
       "      <td>блок+утеплитель</td>\n",
       "      <td>2008.0</td>\n",
       "      <td>7450000</td>\n",
       "      <td>True</td>\n",
       "      <td>1.0</td>\n",
       "    </tr>\n",
       "    <tr>\n",
       "      <th>318</th>\n",
       "      <td>1.0</td>\n",
       "      <td>31.5</td>\n",
       "      <td>Ленинский район</td>\n",
       "      <td>кирпич</td>\n",
       "      <td>1962.0</td>\n",
       "      <td>4500000</td>\n",
       "      <td>True</td>\n",
       "      <td>0.0</td>\n",
       "    </tr>\n",
       "    <tr>\n",
       "      <th>319</th>\n",
       "      <td>1.0</td>\n",
       "      <td>30.9</td>\n",
       "      <td>Московский район</td>\n",
       "      <td>панель</td>\n",
       "      <td>1969.0</td>\n",
       "      <td>3620000</td>\n",
       "      <td>False</td>\n",
       "      <td>0.0</td>\n",
       "    </tr>\n",
       "    <tr>\n",
       "      <th>320</th>\n",
       "      <td>2.0</td>\n",
       "      <td>54.4</td>\n",
       "      <td>Нижегородский район</td>\n",
       "      <td>панель</td>\n",
       "      <td>2005.0</td>\n",
       "      <td>9540000</td>\n",
       "      <td>True</td>\n",
       "      <td>1.0</td>\n",
       "    </tr>\n",
       "  </tbody>\n",
       "</table>\n",
       "<p>321 rows × 8 columns</p>\n",
       "</div>"
      ],
      "text/plain": [
       "     rooms  area1             district    building_type    year    price  \\\n",
       "0      2.0   44.0  Автозаводский район           кирпич  1961.0  4900000   \n",
       "1      2.0   32.0      Советский район           кирпич  1958.0  4000000   \n",
       "2      2.0   45.0    Канавинский район           кирпич  1972.0  4300000   \n",
       "3      1.0   30.8    Канавинский район           кирпич  1965.0  4200000   \n",
       "4      2.0   48.0     Московский район           панель  2016.0  7150000   \n",
       "..     ...    ...                  ...              ...     ...      ...   \n",
       "316    1.0   29.9  Автозаводский район        шлакоблок  1948.0  2999000   \n",
       "317    1.0   44.5  Нижегородский район  блок+утеплитель  2008.0  7450000   \n",
       "318    1.0   31.5      Ленинский район           кирпич  1962.0  4500000   \n",
       "319    1.0   30.9     Московский район           панель  1969.0  3620000   \n",
       "320    2.0   54.4  Нижегородский район           панель  2005.0  9540000   \n",
       "\n",
       "     no_first_no_last  area3_bins  \n",
       "0               False         1.0  \n",
       "1               False         1.0  \n",
       "2                True         1.0  \n",
       "3                True         0.0  \n",
       "4                True         1.0  \n",
       "..                ...         ...  \n",
       "316             False         1.0  \n",
       "317              True         1.0  \n",
       "318              True         0.0  \n",
       "319             False         0.0  \n",
       "320              True         1.0  \n",
       "\n",
       "[321 rows x 8 columns]"
      ]
     },
     "execution_count": 13,
     "metadata": {},
     "output_type": "execute_result"
    }
   ],
   "source": [
    "data = pd.read_csv('data/processed/nnapartment_more_info_new_features.csv')\n",
    "data"
   ]
  },
  {
   "cell_type": "code",
   "execution_count": 14,
   "id": "56b5eb72",
   "metadata": {},
   "outputs": [],
   "source": [
    "X = data.drop(['price'], axis=1)\n",
    "y = data.price"
   ]
  },
  {
   "cell_type": "code",
   "execution_count": 15,
   "id": "01c98041",
   "metadata": {},
   "outputs": [],
   "source": [
    "from sklearn.model_selection import train_test_split\n",
    "\n",
    "X_train, X_test, y_train, y_test = train_test_split(X, y,test_size=.3, random_state=12)"
   ]
  },
  {
   "cell_type": "code",
   "execution_count": 18,
   "id": "dc66df91",
   "metadata": {},
   "outputs": [
    {
     "data": {
      "text/html": [
       "<div>\n",
       "<style scoped>\n",
       "    .dataframe tbody tr th:only-of-type {\n",
       "        vertical-align: middle;\n",
       "    }\n",
       "\n",
       "    .dataframe tbody tr th {\n",
       "        vertical-align: top;\n",
       "    }\n",
       "\n",
       "    .dataframe thead th {\n",
       "        text-align: right;\n",
       "    }\n",
       "</style>\n",
       "<table border=\"1\" class=\"dataframe\">\n",
       "  <thead>\n",
       "    <tr style=\"text-align: right;\">\n",
       "      <th></th>\n",
       "      <th>rooms</th>\n",
       "      <th>area1</th>\n",
       "      <th>district</th>\n",
       "      <th>building_type</th>\n",
       "      <th>year</th>\n",
       "      <th>no_first_no_last</th>\n",
       "      <th>area3_bins</th>\n",
       "    </tr>\n",
       "  </thead>\n",
       "  <tbody>\n",
       "    <tr>\n",
       "      <th>1</th>\n",
       "      <td>2.0</td>\n",
       "      <td>32.0</td>\n",
       "      <td>Советский район</td>\n",
       "      <td>кирпич</td>\n",
       "      <td>1958.0</td>\n",
       "      <td>False</td>\n",
       "      <td>1.0</td>\n",
       "    </tr>\n",
       "  </tbody>\n",
       "</table>\n",
       "</div>"
      ],
      "text/plain": [
       "   rooms  area1         district building_type    year  no_first_no_last  \\\n",
       "1    2.0   32.0  Советский район        кирпич  1958.0             False   \n",
       "\n",
       "   area3_bins  \n",
       "1         1.0  "
      ]
     },
     "execution_count": 18,
     "metadata": {},
     "output_type": "execute_result"
    }
   ],
   "source": [
    "X_test[:1]"
   ]
  },
  {
   "cell_type": "code",
   "execution_count": 17,
   "id": "1eb97471",
   "metadata": {},
   "outputs": [
    {
     "data": {
      "text/plain": [
       "5715855"
      ]
     },
     "execution_count": 17,
     "metadata": {},
     "output_type": "execute_result"
    }
   ],
   "source": [
    "y_pred = int(model.predict(X_test[:1]))\n",
    "y_pred"
   ]
  },
  {
   "cell_type": "code",
   "execution_count": null,
   "id": "a72b39f4",
   "metadata": {},
   "outputs": [],
   "source": []
  },
  {
   "cell_type": "code",
   "execution_count": null,
   "id": "209eea3a",
   "metadata": {},
   "outputs": [],
   "source": []
  },
  {
   "cell_type": "code",
   "execution_count": null,
   "id": "72f63aa5",
   "metadata": {},
   "outputs": [],
   "source": [
    "streamlit run app_begining.py"
   ]
  }
 ],
 "metadata": {
  "kernelspec": {
   "display_name": "Python 3 (ipykernel)",
   "language": "python",
   "name": "python3"
  },
  "language_info": {
   "codemirror_mode": {
    "name": "ipython",
    "version": 3
   },
   "file_extension": ".py",
   "mimetype": "text/x-python",
   "name": "python",
   "nbconvert_exporter": "python",
   "pygments_lexer": "ipython3",
   "version": "3.11.4"
  }
 },
 "nbformat": 4,
 "nbformat_minor": 5
}
